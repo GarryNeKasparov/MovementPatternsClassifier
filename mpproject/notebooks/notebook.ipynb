{
 "cells": [
  {
   "cell_type": "code",
   "execution_count": null,
   "id": "5cb50ff9-d9f6-49e6-82d6-539ef89ed685",
   "metadata": {
    "collapsed": true,
    "jupyter": {
     "outputs_hidden": true
    },
    "scrolled": true
   },
   "outputs": [],
   "source": [
    "import multiprocessing as mp\n",
    "import os\n",
    "import random\n",
    "import warnings\n",
    "\n",
    "import matplotlib.pyplot as plt\n",
    "import numpy as np\n",
    "import pandas as pd\n",
    "import pytorch_warmup as warmup\n",
    "import seaborn as sns\n",
    "import torch\n",
    "import torch.nn as nn\n",
    "import torch.nn.functional as F\n",
    "import wandb\n",
    "from focal_loss.focal_loss import FocalLoss\n",
    "from fortuna.conformal import AdaptivePredictionConformalClassifier\n",
    "from fortuna.output_calib_model import OutputCalibClassifier\n",
    "from fortuna.output_calib_model.config.base import Config\n",
    "from fortuna.output_calib_model.config.optimizer import Optimizer\n",
    "from kneed import KneeLocator\n",
    "from pyod.models import (\n",
    "    iforest,\n",
    "    inne,\n",
    "    lof,\n",
    "    ocsvm,\n",
    ")\n",
    "from sklearn.cluster import DBSCAN\n",
    "from sklearn.metrics import (\n",
    "    ConfusionMatrixDisplay,\n",
    "    accuracy_score,\n",
    "    classification_report,\n",
    "    confusion_matrix,\n",
    "    f1_score,\n",
    "    matthews_corrcoef,\n",
    ")\n",
    "from sklearn.neighbors import NearestNeighbors\n",
    "from sklearn.utils import class_weight\n",
    "from torch.utils.data import (\n",
    "    DataLoader,\n",
    "    Dataset,\n",
    ")\n",
    "from tqdm import tqdm\n",
    "\n",
    "from mpproject.src.data.utils import (\n",
    "    df_replace_outliers_total,\n",
    "    df_resample_total,\n",
    ")\n",
    "\n",
    "pip install -r requirements.txt"
   ]
  },
  {
   "cell_type": "code",
   "execution_count": 1,
   "id": "4ae8d662-8ec7-4c3b-b332-0c11ad327c68",
   "metadata": {
    "scrolled": true
   },
   "outputs": [],
   "source": [
    "SEED = 42\n",
    "\n",
    "\n",
    "def seed_everything(seed):\n",
    "    random.seed(seed)\n",
    "    os.environ[\"PYTHONHASHSEED\"] = str(seed)\n",
    "    np.random.seed(seed)\n",
    "    torch.manual_seed(seed)\n",
    "    torch.cuda.manual_seed(seed)\n",
    "    torch.backends.cudnn.deterministic = True\n",
    "    torch.backends.cudnn.benchmark = False\n",
    "\n",
    "\n",
    "seed_everything(SEED)"
   ]
  },
  {
   "cell_type": "markdown",
   "id": "9110008d-9108-4920-bcab-5da16ae0e948",
   "metadata": {},
   "source": [
    "# Подготовка данных "
   ]
  },
  {
   "cell_type": "code",
   "execution_count": 2,
   "id": "61ba18e4-d5f1-41ff-b425-6584364a9848",
   "metadata": {},
   "outputs": [
    {
     "data": {
      "text/html": [
       "<div>\n",
       "<style scoped>\n",
       "    .dataframe tbody tr th:only-of-type {\n",
       "        vertical-align: middle;\n",
       "    }\n",
       "\n",
       "    .dataframe tbody tr th {\n",
       "        vertical-align: top;\n",
       "    }\n",
       "\n",
       "    .dataframe thead th {\n",
       "        text-align: right;\n",
       "    }\n",
       "</style>\n",
       "<table border=\"1\" class=\"dataframe\">\n",
       "  <thead>\n",
       "    <tr style=\"text-align: right;\">\n",
       "      <th></th>\n",
       "      <th>object_id</th>\n",
       "      <th>datetime</th>\n",
       "      <th>x</th>\n",
       "      <th>y</th>\n",
       "      <th>velocity</th>\n",
       "      <th>target</th>\n",
       "    </tr>\n",
       "  </thead>\n",
       "  <tbody>\n",
       "    <tr>\n",
       "      <th>0</th>\n",
       "      <td>1</td>\n",
       "      <td>2020-08-16 16:41:18</td>\n",
       "      <td>49.003344</td>\n",
       "      <td>39.545739</td>\n",
       "      <td>26.62</td>\n",
       "      <td>0</td>\n",
       "    </tr>\n",
       "    <tr>\n",
       "      <th>1</th>\n",
       "      <td>1</td>\n",
       "      <td>2020-08-16 16:42:18</td>\n",
       "      <td>47.250185</td>\n",
       "      <td>38.153803</td>\n",
       "      <td>27.05</td>\n",
       "      <td>1</td>\n",
       "    </tr>\n",
       "    <tr>\n",
       "      <th>2</th>\n",
       "      <td>1</td>\n",
       "      <td>2020-08-16 16:42:18</td>\n",
       "      <td>49.812873</td>\n",
       "      <td>37.620404</td>\n",
       "      <td>0.36</td>\n",
       "      <td>0</td>\n",
       "    </tr>\n",
       "    <tr>\n",
       "      <th>3</th>\n",
       "      <td>1</td>\n",
       "      <td>2020-08-16 16:45:18</td>\n",
       "      <td>47.918878</td>\n",
       "      <td>37.178980</td>\n",
       "      <td>19.83</td>\n",
       "      <td>0</td>\n",
       "    </tr>\n",
       "    <tr>\n",
       "      <th>4</th>\n",
       "      <td>1</td>\n",
       "      <td>2020-08-16 16:46:18</td>\n",
       "      <td>48.242001</td>\n",
       "      <td>37.438634</td>\n",
       "      <td>38.30</td>\n",
       "      <td>1</td>\n",
       "    </tr>\n",
       "    <tr>\n",
       "      <th>...</th>\n",
       "      <td>...</td>\n",
       "      <td>...</td>\n",
       "      <td>...</td>\n",
       "      <td>...</td>\n",
       "      <td>...</td>\n",
       "      <td>...</td>\n",
       "    </tr>\n",
       "    <tr>\n",
       "      <th>9995</th>\n",
       "      <td>20</td>\n",
       "      <td>2020-09-20 21:48:18</td>\n",
       "      <td>41.698727</td>\n",
       "      <td>30.520955</td>\n",
       "      <td>32.08</td>\n",
       "      <td>0</td>\n",
       "    </tr>\n",
       "    <tr>\n",
       "      <th>9996</th>\n",
       "      <td>20</td>\n",
       "      <td>2020-09-20 21:48:18</td>\n",
       "      <td>40.373742</td>\n",
       "      <td>32.491166</td>\n",
       "      <td>24.02</td>\n",
       "      <td>0</td>\n",
       "    </tr>\n",
       "    <tr>\n",
       "      <th>9997</th>\n",
       "      <td>20</td>\n",
       "      <td>2020-09-20 21:50:18</td>\n",
       "      <td>41.510299</td>\n",
       "      <td>30.651935</td>\n",
       "      <td>9.87</td>\n",
       "      <td>0</td>\n",
       "    </tr>\n",
       "    <tr>\n",
       "      <th>9998</th>\n",
       "      <td>20</td>\n",
       "      <td>2020-09-20 21:50:18</td>\n",
       "      <td>40.650183</td>\n",
       "      <td>31.425671</td>\n",
       "      <td>2.84</td>\n",
       "      <td>0</td>\n",
       "    </tr>\n",
       "    <tr>\n",
       "      <th>9999</th>\n",
       "      <td>20</td>\n",
       "      <td>2020-09-20 21:51:18</td>\n",
       "      <td>42.930191</td>\n",
       "      <td>30.857113</td>\n",
       "      <td>19.37</td>\n",
       "      <td>0</td>\n",
       "    </tr>\n",
       "  </tbody>\n",
       "</table>\n",
       "<p>10000 rows × 6 columns</p>\n",
       "</div>"
      ],
      "text/plain": [
       "      object_id            datetime          x          y  velocity  target\n",
       "0             1 2020-08-16 16:41:18  49.003344  39.545739     26.62       0\n",
       "1             1 2020-08-16 16:42:18  47.250185  38.153803     27.05       1\n",
       "2             1 2020-08-16 16:42:18  49.812873  37.620404      0.36       0\n",
       "3             1 2020-08-16 16:45:18  47.918878  37.178980     19.83       0\n",
       "4             1 2020-08-16 16:46:18  48.242001  37.438634     38.30       1\n",
       "...         ...                 ...        ...        ...       ...     ...\n",
       "9995         20 2020-09-20 21:48:18  41.698727  30.520955     32.08       0\n",
       "9996         20 2020-09-20 21:48:18  40.373742  32.491166     24.02       0\n",
       "9997         20 2020-09-20 21:50:18  41.510299  30.651935      9.87       0\n",
       "9998         20 2020-09-20 21:50:18  40.650183  31.425671      2.84       0\n",
       "9999         20 2020-09-20 21:51:18  42.930191  30.857113     19.37       0\n",
       "\n",
       "[10000 rows x 6 columns]"
      ]
     },
     "execution_count": 2,
     "metadata": {},
     "output_type": "execute_result"
    }
   ],
   "source": [
    "df = pd.read_csv(\"..\\data\\initial_data\\data.csv\")\n",
    "df[\"datetime\"] = pd.to_datetime(df[\"datetime\"])\n",
    "df"
   ]
  },
  {
   "cell_type": "markdown",
   "id": "ab9ab62b-ee77-43f0-8cc8-dc68b3671373",
   "metadata": {},
   "source": [
    "Проблемы в данных:\n",
    "* Разные временные метки\n",
    "* Не все записи начинаются в одно время\n",
    "* Пропущенные значения в скорости\n",
    "* Аномалии в координатах"
   ]
  },
  {
   "cell_type": "markdown",
   "id": "915c1918-50e4-4f34-b32b-bd59eb921428",
   "metadata": {},
   "source": [
    "Решение:\n",
    "* Resample с фиксированным временным шагом. Изначально планировалось интерполировать возникающие после этого шага отсутствующие значения. Это допустимо, если между соседними измерениями прошло мало времени. Однако моделировать движение в течении пропущенных, например, 3 дней бессмысленно.\n",
    "* Алгоритм классификации основан на перемещении за последние n временных меток. То есть от времени он не зависит, а лишь от паттерна движения.\n",
    "* Можно восстановить.\n",
    "* Автоматизировать процесс поиска аномалий. При этом важно захватить все крайние точки, а если нормальная точка будет принята за аномалию - это не так страшно, ведь при восстановлении она окажется примерно в том же месте (паттерн сохранится)"
   ]
  },
  {
   "cell_type": "code",
   "execution_count": 3,
   "id": "92f345c1-9a89-490f-94ab-50f69fb1c47e",
   "metadata": {},
   "outputs": [],
   "source": [
    "def haversine(df: pd.DataFrame):\n",
    "    \"\"\"\n",
    "    Вычисляет столбец расстояние, пройденное за промежутки времени.\n",
    "\n",
    "    Аргументы:\n",
    "    df - датафрейм.\n",
    "    \"\"\"\n",
    "    object_shift = df[\"object_id\"].shift(1)\n",
    "    x = df[\"x\"]\n",
    "    y = df[\"y\"]\n",
    "    x_shift = x.shift(1)\n",
    "    y_shift = y.shift(1)\n",
    "\n",
    "    x = np.radians(x)\n",
    "    y = np.radians(y)\n",
    "    x_shift = np.radians(x_shift)\n",
    "    y_shift = np.radians(y_shift)\n",
    "\n",
    "    delt_x = x_shift - x\n",
    "    delt_y = y_shift - y\n",
    "    delt_x.loc[df[\"object_id\"] != object_shift] = np.nan\n",
    "    delt_y.loc[df[\"object_id\"] != object_shift] = np.nan\n",
    "\n",
    "    a = np.square(np.sin(delt_x / 2)) + np.cos(x) * np.cos(x_shift) * np.square(\n",
    "        np.sin(delt_y / 2)\n",
    "    )\n",
    "    c = 2 * np.arcsin(np.sqrt(a))\n",
    "    km = 6378.137 * c  # радиус Земли\n",
    "    return km\n",
    "\n",
    "\n",
    "def compute_velocity(\n",
    "    df: pd.DataFrame,\n",
    "    column_name: str,\n",
    "    insert_dist: bool = False,\n",
    "    insert_dtime: bool = False,\n",
    "):\n",
    "    \"\"\"\n",
    "    Вычисляет среднюю скорость за время движения объекта.\n",
    "\n",
    "    Аргументы:\n",
    "    df - датафрейм.\n",
    "    column_name - имя столбца посчитанной скорости.\n",
    "    insert_dtime - вставлять ли столбец расстояний между соседями.\n",
    "    insert_dtime - вставлять ли столбец прошедшего времени между соседями.\n",
    "    \"\"\"\n",
    "    delt_time = df[\"datetime\"].diff().apply(lambda x: x.seconds)\n",
    "    delt_dist = haversine(df)\n",
    "    df[column_name] = delt_dist / (delt_time / 3600) / 1.852\n",
    "    if insert_dist:\n",
    "        df[\"delt_dist\"] = delt_dist\n",
    "    if insert_dtime:\n",
    "        df[\"dtime\"] = delt_time\n",
    "    return df"
   ]
  },
  {
   "cell_type": "code",
   "execution_count": 4,
   "id": "fef00b8c-a89c-4cb3-9161-87ec59a0a7d7",
   "metadata": {},
   "outputs": [
    {
     "data": {
      "text/plain": [
       "object_id      0\n",
       "datetime       0\n",
       "x              0\n",
       "y              0\n",
       "velocity     943\n",
       "target         0\n",
       "dtype: int64"
      ]
     },
     "execution_count": 4,
     "metadata": {},
     "output_type": "execute_result"
    }
   ],
   "source": [
    "df.isna().sum()"
   ]
  },
  {
   "cell_type": "markdown",
   "id": "4e0f4412-4b52-46c0-b162-6700dd39dc94",
   "metadata": {},
   "source": [
    "Посмотрим на временные шаги. Обращать внимание будем на столбец target - при слишком сильном усреднении (например, 1 день) может сложиться ситуация, что в нем будут одни 1."
   ]
  },
  {
   "cell_type": "code",
   "execution_count": 5,
   "id": "2f4839b0-835c-4c45-8126-0ec1f0819140",
   "metadata": {},
   "outputs": [
    {
     "data": {
      "text/plain": [
       "count                         9980\n",
       "mean     0 days 01:41:37.286573146\n",
       "std      0 days 16:12:52.675972430\n",
       "min                0 days 00:00:00\n",
       "25%                0 days 00:00:00\n",
       "50%                0 days 00:01:00\n",
       "75%                0 days 00:01:00\n",
       "max                6 days 18:54:00\n",
       "Name: datetime, dtype: object"
      ]
     },
     "execution_count": 5,
     "metadata": {},
     "output_type": "execute_result"
    }
   ],
   "source": [
    "df[\"datetime\"].diff()[df[\"object_id\"] == df[\"object_id\"].shift(1)].describe()"
   ]
  },
  {
   "cell_type": "code",
   "execution_count": 10,
   "id": "fe3707d2-5d0c-4460-881e-660aa901191f",
   "metadata": {},
   "outputs": [
    {
     "name": "stderr",
     "output_type": "stream",
     "text": [
      "100%|██████████| 20/20 [00:12<00:00,  1.63it/s]\n"
     ]
    }
   ],
   "source": [
    "agg_d = {col: \"median\" for col in df.columns[df.columns != \"datetime\"]}\n",
    "agg_d[\"target\"] = \"max\"\n",
    "\n",
    "\n",
    "def df_resample(args: list):\n",
    "    \"\"\"\n",
    "    Выполняет перегруппировку датафрейма, относящегося к одному объекту.\n",
    "\n",
    "    Аргументы:\n",
    "    args = (k, freq).\n",
    "    k : int - номер объекта.\n",
    "    freq : str : шаг группировки (см доступные в pandas).\n",
    "    \"\"\"\n",
    "    k, freq = args\n",
    "    dfd = df[df[\"object_id\"] == k].copy()\n",
    "    dfd = (\n",
    "        dfd.set_index(\"datetime\")\n",
    "        .resample(freq)\n",
    "        .agg(agg_d)\n",
    "        .dropna(how=\"all\")\n",
    "        .reset_index()\n",
    "    )\n",
    "    return dfd\n",
    "\n",
    "\n",
    "# freq = \"15min\"\n",
    "# results = process_map(\n",
    "#     df_resample,\n",
    "#     [(k, freq) for k in df[\"object_id\"].unique()], max_workers=1,\n",
    "# )\n",
    "# df = pd.concat(results)\n",
    "# df = df.sort_values(by=[\"object_id\", \"datetime\"]).reset_index(drop=True)\n",
    "df = df_resample_total(df, \"15min\")"
   ]
  },
  {
   "cell_type": "code",
   "execution_count": 11,
   "id": "5cdbf554-f294-43f4-b7f3-617bf075bbd1",
   "metadata": {},
   "outputs": [
    {
     "data": {
      "text/plain": [
       "datetime     0\n",
       "object_id    0\n",
       "x            0\n",
       "y            0\n",
       "velocity     0\n",
       "target       0\n",
       "dtype: int64"
      ]
     },
     "execution_count": 11,
     "metadata": {},
     "output_type": "execute_result"
    }
   ],
   "source": [
    "df.isna().sum()"
   ]
  },
  {
   "cell_type": "markdown",
   "id": "f738afe3-4d56-4749-80cd-9acc44820e02",
   "metadata": {},
   "source": [
    "Рассмотрим разные подходы к определению аномалий:"
   ]
  },
  {
   "cell_type": "code",
   "execution_count": 14,
   "id": "b9d9efce-7006-4ec2-b63d-ffe0d2547bd1",
   "metadata": {},
   "outputs": [
    {
     "data": {
      "text/html": [
       "<div>\n",
       "<style scoped>\n",
       "    .dataframe tbody tr th:only-of-type {\n",
       "        vertical-align: middle;\n",
       "    }\n",
       "\n",
       "    .dataframe tbody tr th {\n",
       "        vertical-align: top;\n",
       "    }\n",
       "\n",
       "    .dataframe thead th {\n",
       "        text-align: right;\n",
       "    }\n",
       "</style>\n",
       "<table border=\"1\" class=\"dataframe\">\n",
       "  <thead>\n",
       "    <tr style=\"text-align: right;\">\n",
       "      <th></th>\n",
       "      <th>object_id</th>\n",
       "      <th>x</th>\n",
       "      <th>y</th>\n",
       "      <th>velocity</th>\n",
       "      <th>target</th>\n",
       "      <th>dx</th>\n",
       "      <th>dy</th>\n",
       "    </tr>\n",
       "    <tr>\n",
       "      <th>datetime</th>\n",
       "      <th></th>\n",
       "      <th></th>\n",
       "      <th></th>\n",
       "      <th></th>\n",
       "      <th></th>\n",
       "      <th></th>\n",
       "      <th></th>\n",
       "    </tr>\n",
       "  </thead>\n",
       "  <tbody>\n",
       "    <tr>\n",
       "      <th>2020-08-16 16:30:00</th>\n",
       "      <td>1.0</td>\n",
       "      <td>49.003344</td>\n",
       "      <td>38.153803</td>\n",
       "      <td>26.620</td>\n",
       "      <td>1.0</td>\n",
       "      <td>0.000000</td>\n",
       "      <td>0.000000</td>\n",
       "    </tr>\n",
       "    <tr>\n",
       "      <th>2020-08-16 16:45:00</th>\n",
       "      <td>1.0</td>\n",
       "      <td>48.583952</td>\n",
       "      <td>38.322338</td>\n",
       "      <td>27.750</td>\n",
       "      <td>1.0</td>\n",
       "      <td>0.209696</td>\n",
       "      <td>0.084268</td>\n",
       "    </tr>\n",
       "    <tr>\n",
       "      <th>2020-08-16 17:30:00</th>\n",
       "      <td>1.0</td>\n",
       "      <td>48.289023</td>\n",
       "      <td>39.763260</td>\n",
       "      <td>32.560</td>\n",
       "      <td>0.0</td>\n",
       "      <td>0.294930</td>\n",
       "      <td>1.440921</td>\n",
       "    </tr>\n",
       "    <tr>\n",
       "      <th>2020-08-16 17:45:00</th>\n",
       "      <td>1.0</td>\n",
       "      <td>48.741921</td>\n",
       "      <td>39.205165</td>\n",
       "      <td>23.320</td>\n",
       "      <td>1.0</td>\n",
       "      <td>0.078984</td>\n",
       "      <td>0.441413</td>\n",
       "    </tr>\n",
       "    <tr>\n",
       "      <th>2020-08-16 18:30:00</th>\n",
       "      <td>1.0</td>\n",
       "      <td>48.318417</td>\n",
       "      <td>38.536789</td>\n",
       "      <td>28.560</td>\n",
       "      <td>0.0</td>\n",
       "      <td>0.265535</td>\n",
       "      <td>0.000000</td>\n",
       "    </tr>\n",
       "    <tr>\n",
       "      <th>...</th>\n",
       "      <td>...</td>\n",
       "      <td>...</td>\n",
       "      <td>...</td>\n",
       "      <td>...</td>\n",
       "      <td>...</td>\n",
       "      <td>...</td>\n",
       "      <td>...</td>\n",
       "    </tr>\n",
       "    <tr>\n",
       "      <th>2020-09-20 19:45:00</th>\n",
       "      <td>1.0</td>\n",
       "      <td>48.548712</td>\n",
       "      <td>38.844036</td>\n",
       "      <td>13.960</td>\n",
       "      <td>1.0</td>\n",
       "      <td>0.007093</td>\n",
       "      <td>0.495168</td>\n",
       "    </tr>\n",
       "    <tr>\n",
       "      <th>2020-09-20 20:30:00</th>\n",
       "      <td>1.0</td>\n",
       "      <td>47.789316</td>\n",
       "      <td>38.296778</td>\n",
       "      <td>15.875</td>\n",
       "      <td>1.0</td>\n",
       "      <td>0.759396</td>\n",
       "      <td>0.000000</td>\n",
       "    </tr>\n",
       "    <tr>\n",
       "      <th>2020-09-20 20:45:00</th>\n",
       "      <td>1.0</td>\n",
       "      <td>48.551380</td>\n",
       "      <td>38.384552</td>\n",
       "      <td>19.710</td>\n",
       "      <td>1.0</td>\n",
       "      <td>0.001334</td>\n",
       "      <td>0.043887</td>\n",
       "    </tr>\n",
       "    <tr>\n",
       "      <th>2020-09-20 21:30:00</th>\n",
       "      <td>1.0</td>\n",
       "      <td>48.366786</td>\n",
       "      <td>38.129101</td>\n",
       "      <td>26.630</td>\n",
       "      <td>1.0</td>\n",
       "      <td>0.181926</td>\n",
       "      <td>0.167677</td>\n",
       "    </tr>\n",
       "    <tr>\n",
       "      <th>2020-09-20 21:45:00</th>\n",
       "      <td>1.0</td>\n",
       "      <td>48.305677</td>\n",
       "      <td>39.409740</td>\n",
       "      <td>25.430</td>\n",
       "      <td>1.0</td>\n",
       "      <td>0.155774</td>\n",
       "      <td>1.069075</td>\n",
       "    </tr>\n",
       "  </tbody>\n",
       "</table>\n",
       "<p>72 rows × 7 columns</p>\n",
       "</div>"
      ],
      "text/plain": [
       "                     object_id          x          y  velocity  target  \\\n",
       "datetime                                                                 \n",
       "2020-08-16 16:30:00        1.0  49.003344  38.153803    26.620     1.0   \n",
       "2020-08-16 16:45:00        1.0  48.583952  38.322338    27.750     1.0   \n",
       "2020-08-16 17:30:00        1.0  48.289023  39.763260    32.560     0.0   \n",
       "2020-08-16 17:45:00        1.0  48.741921  39.205165    23.320     1.0   \n",
       "2020-08-16 18:30:00        1.0  48.318417  38.536789    28.560     0.0   \n",
       "...                        ...        ...        ...       ...     ...   \n",
       "2020-09-20 19:45:00        1.0  48.548712  38.844036    13.960     1.0   \n",
       "2020-09-20 20:30:00        1.0  47.789316  38.296778    15.875     1.0   \n",
       "2020-09-20 20:45:00        1.0  48.551380  38.384552    19.710     1.0   \n",
       "2020-09-20 21:30:00        1.0  48.366786  38.129101    26.630     1.0   \n",
       "2020-09-20 21:45:00        1.0  48.305677  39.409740    25.430     1.0   \n",
       "\n",
       "                           dx        dy  \n",
       "datetime                                 \n",
       "2020-08-16 16:30:00  0.000000  0.000000  \n",
       "2020-08-16 16:45:00  0.209696  0.084268  \n",
       "2020-08-16 17:30:00  0.294930  1.440921  \n",
       "2020-08-16 17:45:00  0.078984  0.441413  \n",
       "2020-08-16 18:30:00  0.265535  0.000000  \n",
       "...                       ...       ...  \n",
       "2020-09-20 19:45:00  0.007093  0.495168  \n",
       "2020-09-20 20:30:00  0.759396  0.000000  \n",
       "2020-09-20 20:45:00  0.001334  0.043887  \n",
       "2020-09-20 21:30:00  0.181926  0.167677  \n",
       "2020-09-20 21:45:00  0.155774  1.069075  \n",
       "\n",
       "[72 rows x 7 columns]"
      ]
     },
     "execution_count": 14,
     "metadata": {},
     "output_type": "execute_result"
    }
   ],
   "source": [
    "k = 1\n",
    "t = df[df[\"object_id\"] == k]\n",
    "t = t.set_index(\"datetime\").sort_index()\n",
    "t[\"dx\"] = np.abs(t[\"x\"] - t[\"x\"].rolling(\"1d\").median())\n",
    "t[\"dy\"] = np.abs(t[\"y\"] - t[\"y\"].rolling(\"1d\").median())\n",
    "t"
   ]
  },
  {
   "cell_type": "markdown",
   "id": "474a09c0-a0f5-48fb-bc0f-99d65cbffc0b",
   "metadata": {},
   "source": [
    "Рассмотрим следующие методы:\n",
    "* классика - Isoxion Forest, SVM, LOF\n",
    "* INNE - ансамбль из алгоритмов ближайщих соседей\n",
    "* DBSCAN - для каждой точки ищет соседа, на расстоянии eps\n",
    "* QuantileDetector - возьмем квантиль по координатам, и отсечем, что выбивается из полученного значения"
   ]
  },
  {
   "cell_type": "code",
   "execution_count": 15,
   "id": "386fdef5-842d-48df-b6f3-5475b3a26695",
   "metadata": {},
   "outputs": [
    {
     "data": {
      "image/png": "[encoded data removed]",
      "text/plain": [
       "<Figure size 1200x1000 with 6 Axes>"
      ]
     },
     "metadata": {},
     "output_type": "display_data"
    }
   ],
   "source": [
    "contamination = 0.01\n",
    "min_p, max_p = 0.01, 0.95\n",
    "min_samples = 4\n",
    "eps = 0.04\n",
    "\n",
    "\n",
    "class QuantileDetector:\n",
    "    def __init__(self, min_p, max_p):\n",
    "        self.min_p = min_p\n",
    "        self.max_p = max_p\n",
    "\n",
    "    def fit(self, X, col1, col2):\n",
    "        self.min_x_th, self.max_x_th = X[col1].quantile([self.min_p, self.max_p])\n",
    "        self.min_y_th, self.max_y_th = X[col2].quantile([self.min_p, self.max_p])\n",
    "\n",
    "    def predict(self, X, col1, col2):\n",
    "        return (\n",
    "            (X[col1] < self.min_x_th)\n",
    "            | (X[col1] > self.max_x_th)\n",
    "            | (X[col2] < self.min_y_th)\n",
    "            | (X[col2] > self.max_y_th)\n",
    "        ).astype(np.int8)\n",
    "\n",
    "\n",
    "clfs = (\n",
    "    (\"IForest\", iforest.IForest(contamination=contamination, n_jobs=-1)),\n",
    "    (\"LOF\", lof.LOF(contamination=contamination, n_jobs=-1)),\n",
    "    (\"SVM\", ocsvm.OCSVM(contamination=contamination)),\n",
    "    (\"INNE\", inne.INNE(contamination=contamination)),\n",
    "    (\"DBSCAN\", DBSCAN(eps=eps, min_samples=min_samples)),\n",
    "    (\"QUANTILE\", QuantileDetector(min_p, max_p)),\n",
    ")\n",
    "fig, ax = plt.subplots(2, 3, figsize=(12, 10))\n",
    "e = 0\n",
    "for i in range(2):\n",
    "    for j in range(3):\n",
    "        if e >= len(clfs):\n",
    "            break\n",
    "\n",
    "        clf = clfs[e][1]\n",
    "        if clfs[e][0] == \"QUANTILE\":\n",
    "            clf.fit(t[[\"dx\", \"dy\"]], \"dx\", \"dy\")\n",
    "            out = clf.predict(t[[\"dx\", \"dy\"]], \"dx\", \"dy\")\n",
    "        else:\n",
    "            clf.fit(t[[\"dx\", \"dy\"]].values)\n",
    "            if clfs[e][0] == \"DBSCAN\":\n",
    "                out = (clf.labels_ == -1).astype(np.int8)\n",
    "            else:\n",
    "                out = clf.predict(t[[\"dx\", \"dy\"]].values)\n",
    "        scale = t[\"x\"] < 400\n",
    "        sns.scatterplot(\n",
    "            data=t[scale],\n",
    "            x=\"x\",\n",
    "            y=\"y\",\n",
    "            hue=out[scale],\n",
    "            ax=ax[i][j],\n",
    "        ).set_title(clfs[e][0])\n",
    "        e += 1\n",
    "fig.suptitle(\"Сравнение методов определения аномалий\")\n",
    "plt.show()"
   ]
  },
  {
   "cell_type": "markdown",
   "id": "8f57c5f8",
   "metadata": {},
   "source": [
    "P.S. Поскольку эти данные сгенерированы случайно, то, конечно, нельзя оценить качество алгоритмов. Все выводы сделаны на основании оригинальных данных, которых здесь нет."
   ]
  },
  {
   "cell_type": "markdown",
   "id": "dbc137bd-1c5b-49f6-9ebc-c3dd9063bbb1",
   "metadata": {},
   "source": [
    "Логично предположить, что в данном случае оптимальным алгоритмом является DBSCAN. Нужно только автоматизировать подбор параметров."
   ]
  },
  {
   "cell_type": "code",
   "execution_count": 18,
   "id": "1ba23f3f-4b6c-4592-9ea2-523bcab38d61",
   "metadata": {},
   "outputs": [
    {
     "data": {
      "text/plain": [
       "Text(0.5, 1.0, 'DBSCANDetector, eps=0.04, total out=1%')"
      ]
     },
     "execution_count": 18,
     "metadata": {},
     "output_type": "execute_result"
    },
    {
     "data": {
      "image/png": "[encoded data removed]",
      "text/plain": [
       "<Figure size 640x480 with 1 Axes>"
      ]
     },
     "metadata": {},
     "output_type": "display_data"
    }
   ],
   "source": [
    "class DBSCANDetector:\n",
    "    def __init__(self, data, min_samples):\n",
    "        eps = self.compute_eps(data=data, n_neighbors=min_samples)\n",
    "        self.clf = DBSCAN(eps=eps, metric=\"haversine\", min_samples=min_samples)\n",
    "\n",
    "    def compute_eps(self, data, n_neighbors, plot=False):\n",
    "        neighbors = NearestNeighbors(n_neighbors=n_neighbors, metric=\"haversine\")\n",
    "        neighbors_fit = neighbors.fit(data)\n",
    "        distances, _ = neighbors_fit.kneighbors(data)\n",
    "        distances = np.sort(distances, axis=0)\n",
    "        distances = distances[:, 1]\n",
    "        if plot:\n",
    "            plt.plot(distances)\n",
    "        kneedle = KneeLocator(\n",
    "            range(1, len(distances) + 1),\n",
    "            distances,\n",
    "            S=1.0,\n",
    "            curve=\"convex\",\n",
    "            direction=\"increasing\",\n",
    "        )\n",
    "        return kneedle.knee_y\n",
    "\n",
    "    def predict(self, X):\n",
    "        self.clf.fit(X)\n",
    "        return self.clf.labels_ == -1\n",
    "\n",
    "\n",
    "k = 10\n",
    "t = df[df[\"object_id\"] == k]\n",
    "t = t.set_index(\"datetime\")\n",
    "t[\"x\"] = np.deg2rad(t[\"x\"])\n",
    "t[\"y\"] = np.deg2rad(t[\"y\"])\n",
    "t[\"dx\"] = np.abs(t[\"x\"] - t[\"x\"].rolling(\"1d\").median())\n",
    "t[\"dy\"] = np.abs(t[\"y\"] - t[\"y\"].rolling(\"1d\").median())\n",
    "t = t.reset_index()\n",
    "min_samples = 4\n",
    "\n",
    "clf = DBSCANDetector(data=t[[\"x\", \"y\"]], min_samples=min_samples)\n",
    "out = clf.predict(t[[\"dx\", \"dy\"]])\n",
    "scale = t[\"x\"] < 100\n",
    "sns.scatterplot(\n",
    "    data=t[scale],\n",
    "    x=\"x\",\n",
    "    y=\"y\",\n",
    "    hue=out[scale],\n",
    ").set_title(\n",
    "    f\"{type(clf).__name__}, eps={round(eps, 3)}, total out={int(sum(out)/len(t)*100)}%\"\n",
    ")"
   ]
  },
  {
   "cell_type": "code",
   "execution_count": 21,
   "id": "a2c7d9f3-673c-4c35-ba05-0b65be523964",
   "metadata": {},
   "outputs": [
    {
     "name": "stderr",
     "output_type": "stream",
     "text": [
      "100%|██████████| 20/20 [00:10<00:00,  1.86it/s]\n"
     ]
    }
   ],
   "source": [
    "def df_replace_outliers(args: list):\n",
    "    \"\"\"\n",
    "    Заменяет аномальные значения.\n",
    "\n",
    "    Аргументы:\n",
    "    args = (k, freq).\n",
    "    k : int - номер объекта.\n",
    "    freq : str : шаг окна.\n",
    "    \"\"\"\n",
    "    k, w = args\n",
    "    dfd = df[df[\"object_id\"] == k].copy()\n",
    "    dfd = dfd.set_index(\"datetime\")\n",
    "    dfd[\"x\"] = np.deg2rad(dfd[\"x\"])\n",
    "    dfd[\"y\"] = np.deg2rad(dfd[\"y\"])\n",
    "    dfd[\"dx\"] = np.abs(dfd[\"x\"] - dfd[\"x\"].rolling(w).median())\n",
    "    dfd[\"dy\"] = np.abs(dfd[\"y\"] - dfd[\"y\"].rolling(w).median())\n",
    "\n",
    "    clf = DBSCANDetector(data=dfd[[\"x\", \"y\"]], min_samples=4)\n",
    "    out = clf.predict(dfd[[\"dx\", \"dy\"]])\n",
    "\n",
    "    dfd.loc[out, [\"x\", \"y\"]] = np.nan\n",
    "    dfd[\"x\"] = np.rad2deg(dfd[\"x\"])\n",
    "    dfd[\"y\"] = np.rad2deg(dfd[\"y\"])\n",
    "\n",
    "    dfd[\"x\"] = dfd[\"x\"].interpolate(\"time\", limit_direction=\"both\")\n",
    "    dfd[\"y\"] = dfd[\"y\"].interpolate(\"time\", limit_direction=\"both\")\n",
    "\n",
    "    return dfd.drop([\"dx\", \"dy\"], axis=1)\n",
    "\n",
    "\n",
    "# results = process_map(\n",
    "#     df_replace_outliers,\n",
    "#     [(k, \"1d\") for k in df[\"object_id\"].unique()],\n",
    "#     max_workers=mp.cpu_count(),\n",
    "# )\n",
    "# df = pd.concat(results)\n",
    "# df = df.sort_values(by=[\"object_id\", \"datetime\"]).reset_index()\n",
    "df = df_replace_outliers_total(df, \"1d\")"
   ]
  },
  {
   "cell_type": "code",
   "execution_count": 22,
   "id": "eee06aa7-2f52-48e2-b14a-2c1e44f44973",
   "metadata": {},
   "outputs": [
    {
     "data": {
      "text/plain": [
       "35"
      ]
     },
     "execution_count": 22,
     "metadata": {},
     "output_type": "execute_result"
    }
   ],
   "source": [
    "max_v = round(df[\"velocity\"].quantile(0.99))\n",
    "max_v"
   ]
  },
  {
   "cell_type": "code",
   "execution_count": 37,
   "id": "778b0218-387a-4305-912a-331e20c36885",
   "metadata": {},
   "outputs": [],
   "source": [
    "df = compute_velocity(df, \"velocity_c\")"
   ]
  },
  {
   "cell_type": "markdown",
   "id": "764acfdb-d63d-43e1-be10-a5fb826bbe53",
   "metadata": {},
   "source": [
    "Слишком высокие скорости отсечем и заменим путем интерполяции."
   ]
  },
  {
   "cell_type": "code",
   "execution_count": 38,
   "id": "0303dbb3-52ea-43b3-9684-cac2935a6968",
   "metadata": {},
   "outputs": [],
   "source": [
    "id = ((df[\"velocity\"].isna()) | (df[\"velocity\"] > max_v)) & (df[\"velocity_c\"] <= max_v)\n",
    "df.loc[id, \"velocity\"] = df.loc[id, \"velocity_c\"]\n",
    "df[\"velocity\"] = df[\"velocity\"].interpolate()"
   ]
  },
  {
   "cell_type": "code",
   "execution_count": 25,
   "id": "3d23ac01-dfe1-49ea-a797-32748d7d18f2",
   "metadata": {},
   "outputs": [
    {
     "data": {
      "text/plain": [
       "target\n",
       "1.0    1198\n",
       "0.0     235\n",
       "Name: count, dtype: int64"
      ]
     },
     "execution_count": 25,
     "metadata": {},
     "output_type": "execute_result"
    }
   ],
   "source": [
    "df[\"target\"].value_counts()"
   ]
  },
  {
   "cell_type": "markdown",
   "id": "7a502915-eed5-4ce7-9a8f-1416533a638d",
   "metadata": {},
   "source": [
    "# Dataset"
   ]
  },
  {
   "cell_type": "code",
   "execution_count": 43,
   "id": "3eaaa43a-bbfb-4777-8cea-eccefa239305",
   "metadata": {},
   "outputs": [
    {
     "data": {
      "text/html": [
       "<div>\n",
       "<style scoped>\n",
       "    .dataframe tbody tr th:only-of-type {\n",
       "        vertical-align: middle;\n",
       "    }\n",
       "\n",
       "    .dataframe tbody tr th {\n",
       "        vertical-align: top;\n",
       "    }\n",
       "\n",
       "    .dataframe thead th {\n",
       "        text-align: right;\n",
       "    }\n",
       "</style>\n",
       "<table border=\"1\" class=\"dataframe\">\n",
       "  <thead>\n",
       "    <tr style=\"text-align: right;\">\n",
       "      <th></th>\n",
       "      <th>datetime</th>\n",
       "      <th>object_id</th>\n",
       "      <th>x</th>\n",
       "      <th>y</th>\n",
       "      <th>velocity</th>\n",
       "      <th>target</th>\n",
       "      <th>velocity_c</th>\n",
       "    </tr>\n",
       "  </thead>\n",
       "  <tbody>\n",
       "    <tr>\n",
       "      <th>969</th>\n",
       "      <td>2020-09-06 17:30:00</td>\n",
       "      <td>14.0</td>\n",
       "      <td>59.337351</td>\n",
       "      <td>49.470431</td>\n",
       "      <td>17.620</td>\n",
       "      <td>1.0</td>\n",
       "      <td>17.620232</td>\n",
       "    </tr>\n",
       "    <tr>\n",
       "      <th>1423</th>\n",
       "      <td>2020-09-20 17:30:00</td>\n",
       "      <td>20.0</td>\n",
       "      <td>41.324271</td>\n",
       "      <td>32.547482</td>\n",
       "      <td>11.250</td>\n",
       "      <td>1.0</td>\n",
       "      <td>82.373146</td>\n",
       "    </tr>\n",
       "    <tr>\n",
       "      <th>1255</th>\n",
       "      <td>2020-09-06 16:30:00</td>\n",
       "      <td>18.0</td>\n",
       "      <td>47.203129</td>\n",
       "      <td>37.215578</td>\n",
       "      <td>4.430</td>\n",
       "      <td>1.0</td>\n",
       "      <td>2.104598</td>\n",
       "    </tr>\n",
       "    <tr>\n",
       "      <th>50</th>\n",
       "      <td>2020-09-13 17:30:00</td>\n",
       "      <td>1.0</td>\n",
       "      <td>48.285238</td>\n",
       "      <td>37.646620</td>\n",
       "      <td>26.985</td>\n",
       "      <td>0.0</td>\n",
       "      <td>65.112187</td>\n",
       "    </tr>\n",
       "    <tr>\n",
       "      <th>1124</th>\n",
       "      <td>2020-09-13 16:45:00</td>\n",
       "      <td>16.0</td>\n",
       "      <td>53.895135</td>\n",
       "      <td>43.730190</td>\n",
       "      <td>20.350</td>\n",
       "      <td>1.0</td>\n",
       "      <td>84.316175</td>\n",
       "    </tr>\n",
       "  </tbody>\n",
       "</table>\n",
       "</div>"
      ],
      "text/plain": [
       "                datetime  object_id          x          y  velocity  target  \\\n",
       "969  2020-09-06 17:30:00       14.0  59.337351  49.470431    17.620     1.0   \n",
       "1423 2020-09-20 17:30:00       20.0  41.324271  32.547482    11.250     1.0   \n",
       "1255 2020-09-06 16:30:00       18.0  47.203129  37.215578     4.430     1.0   \n",
       "50   2020-09-13 17:30:00        1.0  48.285238  37.646620    26.985     0.0   \n",
       "1124 2020-09-13 16:45:00       16.0  53.895135  43.730190    20.350     1.0   \n",
       "\n",
       "      velocity_c  \n",
       "969    17.620232  \n",
       "1423   82.373146  \n",
       "1255    2.104598  \n",
       "50     65.112187  \n",
       "1124   84.316175  "
      ]
     },
     "execution_count": 43,
     "metadata": {},
     "output_type": "execute_result"
    }
   ],
   "source": [
    "df = (\n",
    "    pd.read_csv(\"..\\data\\prepared_data\\prepared_data.csv\")\n",
    "    .drop(\"Unnamed: 0\", axis=1)\n",
    "    .dropna()\n",
    ")\n",
    "df[\"datetime\"] = pd.to_datetime(df[\"datetime\"])\n",
    "df.sample(5)"
   ]
  },
  {
   "cell_type": "markdown",
   "id": "fe174214-1ac6-4aac-905f-fbbbabdab626",
   "metadata": {},
   "source": [
    "Отнормируем скорость."
   ]
  },
  {
   "cell_type": "code",
   "execution_count": 44,
   "id": "a991d285-117b-4e50-88df-a7e1f3d738d9",
   "metadata": {},
   "outputs": [
    {
     "data": {
      "text/html": [
       "<div>\n",
       "<style scoped>\n",
       "    .dataframe tbody tr th:only-of-type {\n",
       "        vertical-align: middle;\n",
       "    }\n",
       "\n",
       "    .dataframe tbody tr th {\n",
       "        vertical-align: top;\n",
       "    }\n",
       "\n",
       "    .dataframe thead th {\n",
       "        text-align: right;\n",
       "    }\n",
       "</style>\n",
       "<table border=\"1\" class=\"dataframe\">\n",
       "  <thead>\n",
       "    <tr style=\"text-align: right;\">\n",
       "      <th></th>\n",
       "      <th>datetime</th>\n",
       "      <th>object_id</th>\n",
       "      <th>x</th>\n",
       "      <th>y</th>\n",
       "      <th>velocity</th>\n",
       "      <th>target</th>\n",
       "      <th>velocity_c</th>\n",
       "    </tr>\n",
       "  </thead>\n",
       "  <tbody>\n",
       "    <tr>\n",
       "      <th>1</th>\n",
       "      <td>2020-08-16 16:45:00</td>\n",
       "      <td>1.0</td>\n",
       "      <td>48.583952</td>\n",
       "      <td>38.322338</td>\n",
       "      <td>0.27750</td>\n",
       "      <td>1.0</td>\n",
       "      <td>104.308272</td>\n",
       "    </tr>\n",
       "    <tr>\n",
       "      <th>2</th>\n",
       "      <td>2020-08-16 17:30:00</td>\n",
       "      <td>1.0</td>\n",
       "      <td>48.702429</td>\n",
       "      <td>38.984458</td>\n",
       "      <td>0.32560</td>\n",
       "      <td>0.0</td>\n",
       "      <td>36.325093</td>\n",
       "    </tr>\n",
       "    <tr>\n",
       "      <th>3</th>\n",
       "      <td>2020-08-16 17:45:00</td>\n",
       "      <td>1.0</td>\n",
       "      <td>48.741921</td>\n",
       "      <td>39.205165</td>\n",
       "      <td>0.23320</td>\n",
       "      <td>1.0</td>\n",
       "      <td>36.272185</td>\n",
       "    </tr>\n",
       "    <tr>\n",
       "      <th>4</th>\n",
       "      <td>2020-08-16 18:30:00</td>\n",
       "      <td>1.0</td>\n",
       "      <td>48.318417</td>\n",
       "      <td>38.536789</td>\n",
       "      <td>0.28560</td>\n",
       "      <td>0.0</td>\n",
       "      <td>49.094675</td>\n",
       "    </tr>\n",
       "    <tr>\n",
       "      <th>5</th>\n",
       "      <td>2020-08-16 18:45:00</td>\n",
       "      <td>1.0</td>\n",
       "      <td>48.896860</td>\n",
       "      <td>38.401796</td>\n",
       "      <td>0.18990</td>\n",
       "      <td>1.0</td>\n",
       "      <td>140.721433</td>\n",
       "    </tr>\n",
       "    <tr>\n",
       "      <th>...</th>\n",
       "      <td>...</td>\n",
       "      <td>...</td>\n",
       "      <td>...</td>\n",
       "      <td>...</td>\n",
       "      <td>...</td>\n",
       "      <td>...</td>\n",
       "      <td>...</td>\n",
       "    </tr>\n",
       "    <tr>\n",
       "      <th>1428</th>\n",
       "      <td>2020-09-20 19:45:00</td>\n",
       "      <td>20.0</td>\n",
       "      <td>41.901974</td>\n",
       "      <td>32.470521</td>\n",
       "      <td>0.12380</td>\n",
       "      <td>1.0</td>\n",
       "      <td>9.250222</td>\n",
       "    </tr>\n",
       "    <tr>\n",
       "      <th>1429</th>\n",
       "      <td>2020-09-20 20:30:00</td>\n",
       "      <td>20.0</td>\n",
       "      <td>41.559254</td>\n",
       "      <td>31.814743</td>\n",
       "      <td>0.35030</td>\n",
       "      <td>1.0</td>\n",
       "      <td>47.882839</td>\n",
       "    </tr>\n",
       "    <tr>\n",
       "      <th>1430</th>\n",
       "      <td>2020-09-20 20:45:00</td>\n",
       "      <td>20.0</td>\n",
       "      <td>41.445014</td>\n",
       "      <td>31.596150</td>\n",
       "      <td>0.14290</td>\n",
       "      <td>1.0</td>\n",
       "      <td>47.997133</td>\n",
       "    </tr>\n",
       "    <tr>\n",
       "      <th>1431</th>\n",
       "      <td>2020-09-20 21:30:00</td>\n",
       "      <td>20.0</td>\n",
       "      <td>40.929390</td>\n",
       "      <td>31.041989</td>\n",
       "      <td>0.19950</td>\n",
       "      <td>1.0</td>\n",
       "      <td>53.148342</td>\n",
       "    </tr>\n",
       "    <tr>\n",
       "      <th>1432</th>\n",
       "      <td>2020-09-20 21:45:00</td>\n",
       "      <td>20.0</td>\n",
       "      <td>41.510299</td>\n",
       "      <td>30.920454</td>\n",
       "      <td>0.15585</td>\n",
       "      <td>0.0</td>\n",
       "      <td>141.387318</td>\n",
       "    </tr>\n",
       "  </tbody>\n",
       "</table>\n",
       "<p>1413 rows × 7 columns</p>\n",
       "</div>"
      ],
      "text/plain": [
       "                datetime  object_id          x          y  velocity  target  \\\n",
       "1    2020-08-16 16:45:00        1.0  48.583952  38.322338   0.27750     1.0   \n",
       "2    2020-08-16 17:30:00        1.0  48.702429  38.984458   0.32560     0.0   \n",
       "3    2020-08-16 17:45:00        1.0  48.741921  39.205165   0.23320     1.0   \n",
       "4    2020-08-16 18:30:00        1.0  48.318417  38.536789   0.28560     0.0   \n",
       "5    2020-08-16 18:45:00        1.0  48.896860  38.401796   0.18990     1.0   \n",
       "...                  ...        ...        ...        ...       ...     ...   \n",
       "1428 2020-09-20 19:45:00       20.0  41.901974  32.470521   0.12380     1.0   \n",
       "1429 2020-09-20 20:30:00       20.0  41.559254  31.814743   0.35030     1.0   \n",
       "1430 2020-09-20 20:45:00       20.0  41.445014  31.596150   0.14290     1.0   \n",
       "1431 2020-09-20 21:30:00       20.0  40.929390  31.041989   0.19950     1.0   \n",
       "1432 2020-09-20 21:45:00       20.0  41.510299  30.920454   0.15585     0.0   \n",
       "\n",
       "      velocity_c  \n",
       "1     104.308272  \n",
       "2      36.325093  \n",
       "3      36.272185  \n",
       "4      49.094675  \n",
       "5     140.721433  \n",
       "...          ...  \n",
       "1428    9.250222  \n",
       "1429   47.882839  \n",
       "1430   47.997133  \n",
       "1431   53.148342  \n",
       "1432  141.387318  \n",
       "\n",
       "[1413 rows x 7 columns]"
      ]
     },
     "execution_count": 44,
     "metadata": {},
     "output_type": "execute_result"
    }
   ],
   "source": [
    "df[\"velocity\"] /= 100\n",
    "df"
   ]
  },
  {
   "cell_type": "markdown",
   "id": "22b38d8e-bbd2-4ae7-b2b6-43652a176508",
   "metadata": {},
   "source": [
    "Теперь основная идея - нужно собрать контекст перемещения объекта за последнее время, которое можно варьировать. Для удобство зададим следующие константы"
   ]
  },
  {
   "cell_type": "code",
   "execution_count": 45,
   "id": "056aa757-9696-4dca-b327-58d9a21cd5af",
   "metadata": {},
   "outputs": [],
   "source": [
    "HOUR = int(60 / 15)\n",
    "DAY = HOUR * 24\n",
    "BLOCK_SIZE = 6 * HOUR\n",
    "HIDDEN_SIZE = 128\n",
    "WINDOW_SIZE = 24 * DAY\n",
    "INPUT_SIZE = 4\n",
    "DEVICE = \"cuda\" if torch.cuda.is_available() else \"cpu\""
   ]
  },
  {
   "cell_type": "markdown",
   "id": "6856e17b-d0ce-46fc-a59e-b7202bed940b",
   "metadata": {},
   "source": [
    "У каждой точки есть контекст - движение за последнее BLOCK_SIZE время. Чтобы получить фичи из координат найдем вектор в направлении наибольшего удаления, построим ортогональный ему и перейдем к новому базису. Теперь координаты несут информацию о динамике движения объекта."
   ]
  },
  {
   "cell_type": "code",
   "execution_count": 46,
   "id": "982c9f12-4af3-45e7-93aa-a755063cdba4",
   "metadata": {},
   "outputs": [],
   "source": [
    "def distance(x: np.ndarray):\n",
    "    \"\"\"\n",
    "    Рассчитывает расстояния от стартовой точки.\n",
    "    \"\"\"\n",
    "    return np.sqrt(np.sum((x[0] - x) ** 2, axis=1))\n",
    "\n",
    "\n",
    "def get_new_coords(coords: np.ndarray, basis: np.ndarray):\n",
    "    \"\"\"\n",
    "    Формула перехода к новому базису.\n",
    "    \"\"\"\n",
    "    A = np.linalg.inv(basis)\n",
    "    return np.asarray([A @ v for v in (coords[0:] - coords[0])])\n",
    "\n",
    "\n",
    "def get_path_pattern(x: np.ndarray):\n",
    "    \"\"\"\n",
    "    Рассчитывает базис и возвращает координаты точек в нем.\n",
    "    \"\"\"\n",
    "    max_d = np.argmax(distance(x))\n",
    "    v1 = x[max_d] - x[0]\n",
    "    if np.linalg.norm(v1) == 0:\n",
    "        v1 = np.asarray([1, 0])\n",
    "        v2 = np.asarray([0, 1])\n",
    "    else:\n",
    "        v1 /= np.linalg.norm(v1)\n",
    "        v2 = np.asarray([-v1[1], v1[0]])\n",
    "    basis = np.stack([v1, v2]).T\n",
    "    pattern = get_new_coords(x, basis)\n",
    "    return pattern"
   ]
  },
  {
   "cell_type": "markdown",
   "id": "c4f122ac-b7cc-45a6-8547-3cdd763d4d05",
   "metadata": {},
   "source": [
    "Приведем пример преобразования координат, отрисовав векторы базиса"
   ]
  },
  {
   "cell_type": "code",
   "execution_count": 47,
   "id": "4872a92b-3df6-4d76-b3a6-5553dbe55a31",
   "metadata": {},
   "outputs": [
    {
     "data": {
      "text/plain": [
       "Text(0.5, 1.0, 'Пример перехода к новому базису')"
      ]
     },
     "execution_count": 47,
     "metadata": {},
     "output_type": "execute_result"
    },
    {
     "data": {
      "image/png": "[encoded data removed]",
      "text/plain": [
       "<Figure size 640x480 with 1 Axes>"
      ]
     },
     "metadata": {},
     "output_type": "display_data"
    }
   ],
   "source": [
    "x = df[[\"y\", \"x\"]].head(BLOCK_SIZE + 1).values\n",
    "max_d = np.argmax(distance(x))\n",
    "v1 = x[max_d] - x[0]\n",
    "if np.linalg.norm(v1) == 0:\n",
    "    v1 = np.asarray([1, 0])\n",
    "    v2 = np.asarray([0, 1])\n",
    "else:\n",
    "    v1 /= np.linalg.norm(v1)\n",
    "    v2 = np.asarray([-v1[1], v1[0]])\n",
    "basis = np.stack([v1, v2]).T\n",
    "pattern = get_new_coords(x, basis)\n",
    "plt.scatter(x[:, 0], x[:, 1])\n",
    "plt.scatter(x[max_d, 0], x[max_d, 1], color=\"red\")\n",
    "plt.plot([x[0, 0], x[0, 0] + v1[0]], [x[0, 1], x[0, 1] + v1[1]], color=\"orange\")\n",
    "plt.plot([x[0, 0], x[0, 0] + v2[0]], [x[0, 1], x[0, 1] + v2[1]], color=\"orange\")\n",
    "plt.title(\"Пример перехода к новому базису\")"
   ]
  },
  {
   "cell_type": "markdown",
   "id": "2b74a9ec-5801-4b2a-9210-74625f1dedd8",
   "metadata": {},
   "source": [
    "<b>Проблема с некоторыми объектами</b> - временной шаг больше 15 минут между наблюдениями, соответственно, не получается построить контекст."
   ]
  },
  {
   "cell_type": "code",
   "execution_count": 49,
   "id": "0f729aab-cbbe-405a-9043-eaaa1e1fc448",
   "metadata": {
    "scrolled": true
   },
   "outputs": [],
   "source": [
    "def to_context(X: np.ndarray, y: np.ndarray, **kwargs):\n",
    "    \"\"\"\n",
    "    Рассчитывает паттерн движения. Для этого объединяет наблюдения в группы\n",
    "    фиксированного размера и с одинаковыми временными метками, если это возможно.\n",
    "\n",
    "    Далее рассчитывает наибольшее отклонение от начальной точки - это направление\n",
    "    выбирается в качестве одного вектора в новом базисе. Второй получается автоматически.\n",
    "    Начальные точки переводятся в новый базис.\n",
    "    \"\"\"\n",
    "    if X.shape[0] <= BLOCK_SIZE:\n",
    "        warnings.warn(\n",
    "            f\"Too few samples. Length of X is {X.shape[0]}, BLOCK_SIZE = {BLOCK_SIZE}, object_id = {kwargs['object_id']:0.0f}\"\n",
    "        )\n",
    "        return np.array([]), np.array([])\n",
    "    seqs = np.zeros((X.shape[0] - BLOCK_SIZE, BLOCK_SIZE + 1, INPUT_SIZE))\n",
    "    targets = np.empty(X.shape[0] - BLOCK_SIZE)\n",
    "    k = 0\n",
    "    i = 1\n",
    "    while i < X.shape[0] - BLOCK_SIZE:\n",
    "        end_idx = i + BLOCK_SIZE + 1\n",
    "        if end_idx >= X.shape[0]:\n",
    "            break\n",
    "        checker = np.argwhere(\n",
    "            np.diff(X[i:end_idx, 0])\n",
    "            > pd.to_timedelta(kwargs[\"freq\"], unit=\"min\")\n",
    "            + pd.to_timedelta(np.log10(kwargs[\"freq\"]), unit=\"min\")\n",
    "        )\n",
    "        if checker.size == 0:\n",
    "            slc = X[i:end_idx, 1:].astype(np.float32)\n",
    "            new_coords = get_path_pattern(slc[:, :2])\n",
    "            seqs[k] = np.hstack([new_coords, slc[:, 2:]])\n",
    "            targets[k] = y[end_idx - 1]\n",
    "            k += 1\n",
    "            i += 1\n",
    "        else:\n",
    "            i += checker[-1, 0] + 1\n",
    "    if k == 0:\n",
    "        warnings.warn(\n",
    "            f\"Can't construct contexts for given freq. object_id = {kwargs['object_id']:0.0f}, freq = {kwargs['freq']}.\"\n",
    "        )\n",
    "    return seqs[:k], targets[:k]\n",
    "\n",
    "\n",
    "def train_test_split(args):\n",
    "    \"\"\"\n",
    "    Разделяет данные на обучающую, валидационную, калибрационную и тестовую выборки.\n",
    "    args : list = (df, object_id, freq)\n",
    "    df : pd.DataFrame - данные по одному объекту.\n",
    "    object_id - номер объекта.\n",
    "    freq - временной шаг сбора контекста.\n",
    "    \"\"\"\n",
    "    df, object_id, freq = args\n",
    "    X, y = (\n",
    "        df[[\"datetime\", \"y\", \"x\", \"velocity\"]].values,\n",
    "        df[\"target\"].values,\n",
    "    )\n",
    "    X, y = to_context(X, y, object_id=object_id, freq=freq)\n",
    "    X_train, X_calib, X_val, X_test = np.split(\n",
    "        X, [int(0.65 * len(X)), int(0.7 * len(X)), int(0.8 * len(X))]\n",
    "    )\n",
    "    y_train, y_calib, y_val, y_test = np.split(\n",
    "        y, [int(0.65 * len(y)), int(0.7 * len(y)), int(0.8 * len(y))]\n",
    "    )\n",
    "    return X_train, y_train, X_calib, y_calib, X_val, y_val, X_test, y_test\n",
    "\n",
    "\n",
    "# results = process_map(\n",
    "#     train_test_split,\n",
    "#     [(df[df.object_id == k], k, 15) for k in df[\"object_id\"].unique()],\n",
    "#     max_workers=mp.cpu_count(),\n",
    "# )"
   ]
  },
  {
   "cell_type": "markdown",
   "id": "d49e8699-18c2-4c75-9aef-d62ca95803f8",
   "metadata": {},
   "source": [
    "Соберем данные по масивам. При этом данные для обучения расположены во времени раньше, чем тестовые, то есть утечки информации тут нет."
   ]
  },
  {
   "cell_type": "code",
   "execution_count": 46,
   "id": "77b6a348-6fe2-4e32-88de-3e4258008b4b",
   "metadata": {},
   "outputs": [],
   "source": [
    "X_train, y_train = np.concatenate(\n",
    "    [r[0] for r in results if len(r[0].shape) == 3]\n",
    "), np.concatenate([r[1] for r in results])\n",
    "X_calib, y_calib = np.concatenate(\n",
    "    [r[2] for r in results if len(r[2].shape) == 3]\n",
    "), np.concatenate([r[3] for r in results])\n",
    "X_val, y_val = np.concatenate(\n",
    "    [r[4] for r in results if len(r[4].shape) == 3]\n",
    "), np.concatenate([r[5] for r in results])\n",
    "X_test, y_test = np.concatenate(\n",
    "    [r[6] for r in results if len(r[6].shape) == 3]\n",
    "), np.concatenate([r[7] for r in results])"
   ]
  },
  {
   "cell_type": "markdown",
   "id": "70579f22-a7b8-4d3d-9162-dcc3f26b0e22",
   "metadata": {},
   "source": [
    "Проверим баланс классов, а также распределения на разных частях данных."
   ]
  },
  {
   "cell_type": "code",
   "execution_count": 47,
   "id": "44b1269e-a160-4cd1-86db-055c99c5a440",
   "metadata": {},
   "outputs": [
    {
     "data": {
      "text/plain": [
       "((array([0., 1.]), array([ 82588, 108027])),\n",
       " (array([0., 1.]), array([6141, 8517])),\n",
       " (array([0., 1.]), array([15337, 14008])),\n",
       " (array([0., 1.]), array([29075, 29611])))"
      ]
     },
     "execution_count": 47,
     "metadata": {},
     "output_type": "execute_result"
    }
   ],
   "source": [
    "np.unique(y_train, return_counts=True), np.unique(y_calib, return_counts=True), np.unique(\n",
    "    y_val, return_counts=True\n",
    "), np.unique(y_test, return_counts=True)"
   ]
  },
  {
   "cell_type": "markdown",
   "id": "4ee0aac3-274b-4bcc-be27-7bc2a39919a5",
   "metadata": {},
   "source": [
    "Видим, что обучать и тестировать модель будем примерно на одном распределении, то есть наши оценки будут достоверными."
   ]
  },
  {
   "cell_type": "markdown",
   "id": "57bcff98-1a40-4440-8845-ca72b8736cd3",
   "metadata": {},
   "source": [
    "Приведем данные в Torch формат"
   ]
  },
  {
   "cell_type": "code",
   "execution_count": 48,
   "id": "4950a64e-4145-4507-adcb-6dbfd4c3a2ce",
   "metadata": {},
   "outputs": [],
   "source": [
    "class Data(Dataset):\n",
    "    def __init__(self, X: np.ndarray, y: np.ndarray):\n",
    "        self.X, self.y = torch.as_tensor(X, dtype=torch.float32), torch.as_tensor(\n",
    "            y, dtype=torch.y\n",
    "        )\n",
    "\n",
    "    def __len__(self):\n",
    "        return len(self.X)\n",
    "\n",
    "    def __getitem__(self, idx: int):\n",
    "        return self.X[idx], self.y[idx]"
   ]
  },
  {
   "cell_type": "code",
   "execution_count": 49,
   "id": "db160b69-504f-422a-a587-22815a5a6774",
   "metadata": {},
   "outputs": [],
   "source": [
    "BATCH_SIZE = 1024\n",
    "\n",
    "train_data = Data(X_train, y_train)\n",
    "calib_data = Data(X_calib, y_calib)\n",
    "val_data = Data(X_val, y_val)\n",
    "test_data = Data(X_test, y_test)\n",
    "\n",
    "train_loader = DataLoader(\n",
    "    train_data, batch_size=BATCH_SIZE, shuffle=True, pin_memory=True, drop_last=True\n",
    ")\n",
    "calib_loader = DataLoader(\n",
    "    calib_data, batch_size=BATCH_SIZE, shuffle=True, pin_memory=True, drop_last=True\n",
    ")\n",
    "val_loader = DataLoader(\n",
    "    val_data, batch_size=BATCH_SIZE, shuffle=True, pin_memory=True, drop_last=True\n",
    ")\n",
    "test_loader = DataLoader(\n",
    "    test_data, batch_size=BATCH_SIZE, shuffle=True, pin_memory=True, drop_last=True\n",
    ")"
   ]
  },
  {
   "cell_type": "markdown",
   "id": "c7b38399-bd2d-4f2b-88cf-0aed6f2ad24f",
   "metadata": {},
   "source": [
    "# Model"
   ]
  },
  {
   "cell_type": "markdown",
   "id": "7586d3cf-419e-405a-95b0-1cae5e60282e",
   "metadata": {},
   "source": [
    "Классическая реализация классификатора на базе LSTM, есть возможность задавать dropout, количество слоев, размерность внутреннего пространства и входных данных (если в будущем добавим фичи) "
   ]
  },
  {
   "cell_type": "code",
   "execution_count": 50,
   "id": "b97fce02-4821-43fe-b8ef-a3227a560e10",
   "metadata": {},
   "outputs": [],
   "source": [
    "class LSTM(nn.Module):\n",
    "    def __init__(self, input_size, hidden_size, num_layers, dropouts=[0, 0]):\n",
    "        super().__init__()\n",
    "        self.hidden_size = hidden_size\n",
    "        self.num_layers = num_layers\n",
    "        self.lstm = nn.LSTM(\n",
    "            input_size=input_size,\n",
    "            hidden_size=hidden_size,\n",
    "            dropout=dropouts[0],\n",
    "            num_layers=num_layers,\n",
    "            batch_first=True,\n",
    "        )\n",
    "        self.fc1 = nn.Linear(hidden_size, hidden_size // 2)\n",
    "        self.bn = nn.BatchNorm1d(hidden_size // 2)\n",
    "        self.relu = nn.ReLU()\n",
    "        self.dp = nn.Dropout(p=dropouts[1])\n",
    "        self.fc2 = nn.Linear(hidden_size // 2, 2)\n",
    "\n",
    "    def forward(self, x):\n",
    "        h_0 = torch.zeros(self.num_layers, x.size(0), self.hidden_size).to(DEVICE)\n",
    "\n",
    "        c_0 = torch.zeros(self.num_layers, x.size(0), self.hidden_size).to(DEVICE)\n",
    "\n",
    "        x, _ = self.lstm(x, (h_0, c_0))\n",
    "        x = x[:, -1]\n",
    "        x = self.fc1(x)\n",
    "        x = self.bn(x)\n",
    "        x = self.dp(x)\n",
    "        x = self.relu(x)\n",
    "        x = self.fc2(x)\n",
    "        return x"
   ]
  },
  {
   "cell_type": "markdown",
   "id": "8e2365f5-2ec9-4d80-84bc-a8e2ea47e39f",
   "metadata": {},
   "source": [
    "Реализация GRU - сравнима по качеству с LSTM, но имеет меньше параметров"
   ]
  },
  {
   "cell_type": "code",
   "execution_count": 51,
   "id": "a745a4eb-b398-4601-803d-eb297af6f683",
   "metadata": {},
   "outputs": [],
   "source": [
    "class GRU(nn.Module):\n",
    "    def __init__(self, input_size, hidden_size, num_layers, dropouts=[0, 0]):\n",
    "        super().__init__()\n",
    "        self.hidden_size = hidden_size\n",
    "        self.num_layers = num_layers\n",
    "        self.gru = nn.GRU(\n",
    "            input_size=input_size,\n",
    "            hidden_size=hidden_size,\n",
    "            dropout=dropouts[0],\n",
    "            num_layers=num_layers,\n",
    "            batch_first=True,\n",
    "        )\n",
    "        self.fc1 = nn.Linear(hidden_size, hidden_size // 2)\n",
    "        self.bn = nn.BatchNorm1d(hidden_size // 2)\n",
    "        self.relu = nn.ReLU()\n",
    "        self.dp = nn.Dropout(p=dropouts[1])\n",
    "        self.fc2 = nn.Linear(hidden_size // 2, 2)\n",
    "\n",
    "    def forward(self, x):\n",
    "        h_0 = torch.zeros(self.num_layers, x.size(0), self.hidden_size).to(DEVICE)\n",
    "\n",
    "        x, _ = self.gru(x, h_0)\n",
    "        x = x[:, -1]\n",
    "        x = self.fc1(x)\n",
    "        x = self.bn(x)\n",
    "        x = self.dp(x)\n",
    "        x = self.relu(x)\n",
    "        x = self.fc2(x)\n",
    "        return x"
   ]
  },
  {
   "cell_type": "markdown",
   "id": "aa1429ae-4e45-4e1d-be11-78a62b39f18a",
   "metadata": {},
   "source": [
    "Так как модели возвращают логиты, для дальнейшего анализа их нужно перевести в вероятности."
   ]
  },
  {
   "cell_type": "code",
   "execution_count": 52,
   "id": "6ae3d604-4692-4185-a474-5126862bc6bb",
   "metadata": {},
   "outputs": [],
   "source": [
    "def to_prob(logits: np.ndarray):\n",
    "    return F.softmax(torch.Tensor(logits), dim=1).numpy()"
   ]
  },
  {
   "cell_type": "markdown",
   "id": "b2848c36-5f91-493b-8b6e-7295b3177fe2",
   "metadata": {},
   "source": [
    "## Training"
   ]
  },
  {
   "cell_type": "markdown",
   "id": "d3de03a0-a66b-44d1-ac02-c5ee0e4e6594",
   "metadata": {},
   "source": [
    "Вспомогательные функции для обучения и оценки модели."
   ]
  },
  {
   "cell_type": "code",
   "execution_count": 53,
   "id": "daf74713-936e-4e7b-b4c5-8d7dced87c36",
   "metadata": {},
   "outputs": [],
   "source": [
    "def get_outputs_and_targets(model: nn.Module, loader: DataLoader):\n",
    "    \"\"\"\n",
    "    Возвращает предсказания (логиты) по данным.\n",
    "    \"\"\"\n",
    "    model.eval()\n",
    "    outputs = np.empty((len(loader) * BATCH_SIZE, 2))\n",
    "    targets = np.empty(len(loader) * BATCH_SIZE)\n",
    "    start = 0\n",
    "    end = BATCH_SIZE\n",
    "    seed_everything(42)\n",
    "    with torch.no_grad():\n",
    "        for x, y in loader:\n",
    "            x = x.to(DEVICE)\n",
    "            logits = model(x)\n",
    "            outputs[start:end] = logits.cpu().numpy()\n",
    "            targets[start:end] = y.numpy()\n",
    "            start += BATCH_SIZE\n",
    "            end += BATCH_SIZE\n",
    "    return outputs, targets.astype(np.int8)\n",
    "\n",
    "\n",
    "def eval_metrics(\n",
    "    model: nn.Module, val_loader: DataLoader, metrics: list, device: str = \"cuda:0\"\n",
    "):\n",
    "    \"\"\"\n",
    "    Возвращает оценку модели по заданным метрикам.\n",
    "    \"\"\"\n",
    "    seed_everything(42)\n",
    "    model.eval()\n",
    "    scores = {}\n",
    "    val_outputs, val_targets = get_outputs_and_targets(model, val_loader)\n",
    "    val_outputs = F.softmax(torch.Tensor(val_outputs), dim=1).argmax(dim=1).numpy()\n",
    "    for metric in metrics:\n",
    "        scores[metric.__name__] = metric(val_outputs, val_targets)\n",
    "    return scores\n",
    "\n",
    "\n",
    "def eval_loss(\n",
    "    model: nn.Module, val_loader: DataLoader, criterion, device: str = \"cuda:0\"\n",
    "):\n",
    "    \"\"\"\n",
    "    Возвращает значение loss фунции на данных.\n",
    "    \"\"\"\n",
    "    losses = []\n",
    "    seed_everything(42)\n",
    "    model.eval()\n",
    "    with torch.no_grad():\n",
    "        for x, y in val_loader:\n",
    "            x = x.to(device)\n",
    "            y = y.to(device)\n",
    "            outputs = model(x)\n",
    "            loss = criterion(outputs, y).item()\n",
    "            losses.append(loss)\n",
    "    return np.mean(losses)"
   ]
  },
  {
   "cell_type": "markdown",
   "id": "b1bbcf4a-7fa7-4da9-b676-e26e72f0c6ca",
   "metadata": {},
   "source": [
    "Сам скрипт обучения. Все стандартно, дополнительно используем scheduler и grad clipping для лучшей сходимости и борьбы со взрывающимся градиентом. Также используем класс scaler - динамически производящий вычисления в fp16 режиме, если это возможно. Это значительно ускоряет обучение, не сильно сказываясь на качестве обучения. "
   ]
  },
  {
   "cell_type": "code",
   "execution_count": 54,
   "id": "1a1e36f8-cabe-4df1-b679-d2e7244159bd",
   "metadata": {},
   "outputs": [],
   "source": [
    "scaler = torch.cuda.amp.GradScaler()\n",
    "\n",
    "\n",
    "def train(\n",
    "    model: nn.Module,\n",
    "    train_loader: DataLoader,\n",
    "    optimizer,\n",
    "    criterion,\n",
    "    scheduler=None,\n",
    "    warmup_scheduler=None,\n",
    "    epochs: int = 10,\n",
    "    val_loader: DataLoader = None,\n",
    "    compute_val_loss: bool = True,\n",
    "    compute_metrics: bool = True,\n",
    "    metrics: list = None,\n",
    "    verbose: bool = True,\n",
    "    checkpoint_path: str = \"./\",\n",
    "    checkpoint_step: int = 10,\n",
    "    device: str = \"cuda:0\",\n",
    "    wb=False,\n",
    "):\n",
    "    train_history, val_history = [], []\n",
    "    if compute_val_loss:\n",
    "        class_weights = class_weight.compute_class_weight(\n",
    "            \"balanced\", classes=np.array([0, 1]), y=val_loader.dataset.y.numpy()\n",
    "        )\n",
    "        weights = torch.tensor(class_weights, dtype=torch.float32)\n",
    "        val_criterion = nn.CrossEntropyLoss(weight=weights).to(DEVICE)\n",
    "\n",
    "    for epoch in range(1, epochs + 1):\n",
    "        model.train()\n",
    "        loop = tqdm(train_loader, desc=\"Training\", position=0, leave=True)\n",
    "        epoch_history = 0\n",
    "\n",
    "        if epoch % checkpoint_step == 0:\n",
    "            torch.save(model.state_dict(), checkpoint_path + str(epoch) + \".pt\")\n",
    "\n",
    "        for x, y in loop:\n",
    "            model.zero_grad(set_to_none=True)\n",
    "            x = x.to(device)\n",
    "            y = y.to(device)\n",
    "            with torch.autocast(device_type=device, dtype=torch.float16):\n",
    "                outputs = model(x)\n",
    "                if type(criterion).__name__ == \"FocalLoss\":\n",
    "                    outputs = F.softmax(outputs, dim=1)\n",
    "                loss = criterion(outputs, y)\n",
    "\n",
    "            epoch_history += loss.item()\n",
    "\n",
    "            if verbose:\n",
    "                loop.set_description(f\"Epoch {epoch} | Loss: {loss.item():.4f}\")\n",
    "\n",
    "            scaler.scale(loss).backward()\n",
    "            nn.utils.clip_grad_norm_(model.parameters(), 10)\n",
    "            scaler.step(optimizer)\n",
    "            scaler.update()\n",
    "\n",
    "            if scheduler is not None:\n",
    "                with warmup_scheduler.dampening():\n",
    "                    scheduler.step()\n",
    "\n",
    "        if compute_val_loss:\n",
    "            val_loss = eval_loss(model, val_loader, val_criterion)\n",
    "            if not wb and verbose:\n",
    "                tqdm.write(f\"Val loss: {val_loss:.4f}\")\n",
    "            val_history.append(val_loss)\n",
    "\n",
    "        if compute_metrics:\n",
    "            scores = eval_metrics(model, val_loader, metrics)\n",
    "            if not wb and verbose:\n",
    "                s = \"\"\n",
    "                for metric in metrics:\n",
    "                    s += f\"{metric.__name__}: {scores[metric.__name__]:.4f} \"\n",
    "                tqdm.write(s)\n",
    "        train_history.append(epoch_history / len(train_loader))\n",
    "        if wb:\n",
    "            scores[\"train_loss\"] = epoch_history / len(train_loader)\n",
    "            scores[\"val_loss\"] = val_loss\n",
    "            wandb.log(scores)\n",
    "\n",
    "    return train_history, val_history"
   ]
  },
  {
   "cell_type": "markdown",
   "id": "62e89d32-c7cc-47bc-8516-f70ac694981b",
   "metadata": {},
   "source": [
    "Рассчитаем веса классов, что поможет функции ошибки более точно направлять модель при обучении."
   ]
  },
  {
   "cell_type": "code",
   "execution_count": 55,
   "id": "ac94c01e-70f0-4feb-932b-e8c61ca7570e",
   "metadata": {},
   "outputs": [
    {
     "data": {
      "text/plain": [
       "tensor([1.1540, 0.8823])"
      ]
     },
     "execution_count": 55,
     "metadata": {},
     "output_type": "execute_result"
    }
   ],
   "source": [
    "class_weights = class_weight.compute_class_weight(\n",
    "    \"balanced\", classes=np.array([0, 1]), y=train_loader.dataset.y.numpy()\n",
    ")\n",
    "weights = torch.tensor(class_weights, dtype=torch.float32)\n",
    "weights"
   ]
  },
  {
   "cell_type": "markdown",
   "id": "234b9aba-9635-4631-b342-8d895f5101ba",
   "metadata": {},
   "source": [
    "Зададим метрики, которые будем отслеживать. \n",
    "\n",
    "Matthews - метрика со значениями [0, 1], где 0 - случайное предсказание, 1 - идеальное. В отличие от F1, Recall, Precision - учитывает все клетки матрицы ошибки классификации, то есть в рассчете участвуют все TP, FP, TN, FN, это дает более точную оценку качеству модели."
   ]
  },
  {
   "cell_type": "code",
   "execution_count": 56,
   "id": "aa33ddc9-ad34-4158-8b00-3f1b0becf226",
   "metadata": {},
   "outputs": [],
   "source": [
    "f1 = lambda pred, y: f1_score(y, pred, zero_division=0.0)\n",
    "f1.__name__ = \"f1_score\"\n",
    "\n",
    "matthews = lambda pred, y: matthews_corrcoef(y, pred)\n",
    "matthews.__name__ = \"matthews_corr\""
   ]
  },
  {
   "cell_type": "markdown",
   "id": "1d2f96b7-523b-4b82-9f25-5314a764a6cf",
   "metadata": {},
   "source": [
    "Инициализируем weights & biases - сервис логирования экспериментов."
   ]
  },
  {
   "cell_type": "code",
   "execution_count": null,
   "id": "dd5c4ea2-a685-4d2c-b53c-6e758d4260fa",
   "metadata": {},
   "outputs": [],
   "source": [
    "params = {\n",
    "    \"hidden_size\": 128,\n",
    "    \"num_layers\": 2,\n",
    "    \"learning_rate\": 1e-3,\n",
    "    \"dropout\": [0.6, 0.6],\n",
    "    \"epochs\": 100,\n",
    "}\n",
    "wandb.init(\n",
    "    project=\"project\",\n",
    "    config={\n",
    "        \"optimizer\": \"AdamW\",\n",
    "        \"criterion\": \"FocalLoss\",\n",
    "        \"learning_rate\": params[\"learning_rate\"],\n",
    "        \"architecture\": f'GRU, hidden={params[\"hidden_size\"]}, layers={params[\"num_layers\"]}, dropout={params[\"dropout\"]}',\n",
    "        \"epochs\": params[\"epochs\"],\n",
    "    },\n",
    ")"
   ]
  },
  {
   "cell_type": "markdown",
   "id": "94995b18-ad3d-49e4-af8c-049e0a04550d",
   "metadata": {},
   "source": [
    "Запускаем обучение"
   ]
  },
  {
   "cell_type": "code",
   "execution_count": null,
   "id": "92457ab7-5923-48f1-a388-a1c52e948d2c",
   "metadata": {
    "scrolled": true
   },
   "outputs": [
    {
     "name": "stderr",
     "output_type": "stream",
     "text": [
      "Epoch 1 | Loss: 0.2225: 100%|██████████| 186/186 [00:02<00:00, 90.33it/s] \n",
      "Epoch 2 | Loss: 0.1547: 100%|██████████| 186/186 [00:02<00:00, 88.72it/s] \n",
      "Epoch 3 | Loss: 0.1383: 100%|██████████| 186/186 [00:01<00:00, 98.70it/s] \n",
      "Epoch 4 | Loss: 0.1349: 100%|██████████| 186/186 [00:01<00:00, 98.75it/s] \n",
      "Epoch 5 | Loss: 0.1333: 100%|██████████| 186/186 [00:01<00:00, 98.39it/s] \n",
      "Epoch 6 | Loss: 0.1335: 100%|██████████| 186/186 [00:01<00:00, 97.21it/s] \n",
      "Epoch 7 | Loss: 0.1323: 100%|██████████| 186/186 [00:02<00:00, 89.27it/s] \n",
      "Epoch 8 | Loss: 0.1301: 100%|██████████| 186/186 [00:01<00:00, 97.14it/s] \n",
      "Epoch 9 | Loss: 0.1288: 100%|██████████| 186/186 [00:01<00:00, 98.53it/s] \n",
      "Epoch 10 | Loss: 0.1269: 100%|██████████| 186/186 [00:02<00:00, 89.84it/s] \n",
      "Epoch 11 | Loss: 0.1255: 100%|██████████| 186/186 [00:01<00:00, 99.05it/s] \n",
      "Epoch 12 | Loss: 0.1242: 100%|██████████| 186/186 [00:01<00:00, 97.81it/s] \n",
      "Epoch 13 | Loss: 0.1238: 100%|██████████| 186/186 [00:02<00:00, 89.65it/s] \n",
      "Epoch 14 | Loss: 0.1243: 100%|██████████| 186/186 [00:01<00:00, 97.48it/s] \n",
      "Epoch 15 | Loss: 0.1249: 100%|██████████| 186/186 [00:01<00:00, 98.67it/s] \n",
      "Epoch 16 | Loss: 0.1238: 100%|██████████| 186/186 [00:02<00:00, 89.45it/s] \n",
      "Epoch 17 | Loss: 0.1241: 100%|██████████| 186/186 [00:01<00:00, 97.27it/s] \n",
      "Epoch 18 | Loss: 0.1238: 100%|██████████| 186/186 [00:01<00:00, 98.09it/s] \n",
      "Epoch 19 | Loss: 0.1244: 100%|██████████| 186/186 [00:02<00:00, 89.11it/s] \n",
      "Epoch 20 | Loss: 0.1229: 100%|██████████| 186/186 [00:01<00:00, 99.37it/s] \n",
      "Epoch 21 | Loss: 0.1213: 100%|██████████| 186/186 [00:01<00:00, 98.30it/s] \n",
      "Epoch 22 | Loss: 0.1194: 100%|██████████| 186/186 [00:01<00:00, 98.99it/s] \n",
      "Epoch 23 | Loss: 0.1186: 100%|██████████| 186/186 [00:01<00:00, 95.89it/s] \n",
      "Epoch 24 | Loss: 0.1179: 100%|██████████| 186/186 [00:02<00:00, 89.16it/s] \n",
      "Epoch 25 | Loss: 0.1174: 100%|██████████| 186/186 [00:01<00:00, 96.82it/s] \n",
      "Epoch 26 | Loss: 0.1175: 100%|██████████| 186/186 [00:01<00:00, 96.93it/s] \n",
      "Epoch 27 | Loss: 0.1168: 100%|██████████| 186/186 [00:02<00:00, 89.38it/s] \n",
      "Epoch 28 | Loss: 0.1162: 100%|██████████| 186/186 [00:01<00:00, 97.60it/s] \n",
      "Epoch 29 | Loss: 0.1162: 100%|██████████| 186/186 [00:01<00:00, 97.48it/s] \n",
      "Epoch 30 | Loss: 0.1160: 100%|██████████| 186/186 [00:02<00:00, 87.14it/s] \n",
      "Epoch 31 | Loss: 0.1155: 100%|██████████| 186/186 [00:01<00:00, 97.25it/s] \n",
      "Epoch 32 | Loss: 0.1144: 100%|██████████| 186/186 [00:01<00:00, 98.91it/s] \n",
      "Epoch 33 | Loss: 0.1147: 100%|██████████| 186/186 [00:02<00:00, 89.12it/s] \n",
      "Epoch 34 | Loss: 0.1138: 100%|██████████| 186/186 [00:01<00:00, 98.46it/s] \n",
      "Epoch 35 | Loss: 0.1132: 100%|██████████| 186/186 [00:01<00:00, 98.04it/s] \n",
      "Epoch 36 | Loss: 0.1126: 100%|██████████| 186/186 [00:01<00:00, 97.29it/s] \n",
      "Epoch 37 | Loss: 0.1122: 100%|██████████| 186/186 [00:01<00:00, 97.82it/s] \n",
      "Epoch 38 | Loss: 0.1119: 100%|██████████| 186/186 [00:01<00:00, 97.09it/s] \n",
      "Epoch 39 | Loss: 0.1114: 100%|██████████| 186/186 [00:01<00:00, 99.22it/s] \n",
      "Epoch 40 | Loss: 0.1110: 100%|██████████| 186/186 [00:01<00:00, 95.71it/s] \n",
      "Epoch 41 | Loss: 0.1108: 100%|██████████| 186/186 [00:02<00:00, 90.04it/s] \n",
      "Epoch 42 | Loss: 0.1106: 100%|██████████| 186/186 [00:01<00:00, 97.68it/s] \n",
      "Epoch 43 | Loss: 0.1102: 100%|██████████| 186/186 [00:01<00:00, 97.57it/s] \n",
      "Epoch 44 | Loss: 0.1101: 100%|██████████| 186/186 [00:02<00:00, 88.04it/s] \n",
      "Epoch 45 | Loss: 0.1098: 100%|██████████| 186/186 [00:01<00:00, 99.50it/s] \n",
      "Epoch 46 | Loss: 0.1101: 100%|██████████| 186/186 [00:01<00:00, 96.68it/s] \n",
      "Epoch 47 | Loss: 0.1097: 100%|██████████| 186/186 [00:02<00:00, 89.96it/s] \n",
      "Epoch 48 | Loss: 0.1094: 100%|██████████| 186/186 [00:01<00:00, 96.66it/s] \n",
      "Epoch 49 | Loss: 0.1090: 100%|██████████| 186/186 [00:01<00:00, 95.72it/s] \n",
      "Epoch 50 | Loss: 0.1086: 100%|██████████| 186/186 [00:02<00:00, 88.96it/s] \n",
      "Epoch 51 | Loss: 0.1086: 100%|██████████| 186/186 [00:01<00:00, 99.26it/s] \n",
      "Epoch 52 | Loss: 0.1083: 100%|██████████| 186/186 [00:01<00:00, 99.39it/s] \n",
      "Epoch 53 | Loss: 0.1082: 100%|██████████| 186/186 [00:01<00:00, 98.72it/s] \n",
      "Epoch 54 | Loss: 0.1083: 100%|██████████| 186/186 [00:01<00:00, 99.30it/s] \n",
      "Epoch 55 | Loss: 0.1086: 100%|██████████| 186/186 [00:01<00:00, 97.71it/s] \n",
      "Epoch 56 | Loss: 0.1087: 100%|██████████| 186/186 [00:01<00:00, 98.54it/s] \n",
      "Epoch 57 | Loss: 0.1088: 100%|██████████| 186/186 [00:01<00:00, 99.83it/s] \n",
      "Epoch 58 | Loss: 0.1089: 100%|██████████| 186/186 [00:02<00:00, 88.60it/s] \n",
      "Epoch 59 | Loss: 0.1088: 100%|██████████| 186/186 [00:01<00:00, 98.37it/s] \n"
     ]
    }
   ],
   "source": [
    "model = GRU(\n",
    "    input_size=INPUT_SIZE,\n",
    "    hidden_size=params[\"hidden_size\"],\n",
    "    num_layers=params[\"num_layers\"],\n",
    "    dropouts=params[\"dropout\"],\n",
    ").to(DEVICE)\n",
    "optimizer = torch.optim.AdamW(model.parameters(), lr=params[\"learning_rate\"])\n",
    "num_steps = len(train_loader) * 80\n",
    "lr_scheduler = torch.optim.lr_scheduler.CosineAnnealingLR(optimizer, T_max=num_steps)\n",
    "warmup_scheduler = warmup.UntunedLinearWarmup(optimizer)\n",
    "# criterion = nn.CrossEntropyLoss(weights).to(DEVICE)\n",
    "criterion = FocalLoss(gamma=2, weights=weights.to(DEVICE), reduction=\"mean\").to(DEVICE)\n",
    "train_history, val_history = train(\n",
    "    model,\n",
    "    train_loader,\n",
    "    optimizer,\n",
    "    criterion,\n",
    "    scheduler=lr_scheduler,\n",
    "    warmup_scheduler=warmup_scheduler,\n",
    "    epochs=params[\"epochs\"],\n",
    "    val_loader=val_loader,\n",
    "    compute_val_loss=True,\n",
    "    compute_metrics=True,\n",
    "    metrics=(accuracy_score, f1, matthews),\n",
    "    device=DEVICE,\n",
    "    verbose=True,\n",
    "    checkpoint_path=\"./checkpoint/\",\n",
    "    checkpoint_step=1000,\n",
    "    wb=True,\n",
    ")\n",
    "# wandb.finish()"
   ]
  },
  {
   "cell_type": "code",
   "execution_count": 26,
   "id": "ca2a7a97-fb54-40a0-b6f8-ad779b0b7043",
   "metadata": {},
   "outputs": [],
   "source": [
    "torch.save(model.state_dict(), \"gru_trained.pt\")"
   ]
  },
  {
   "cell_type": "markdown",
   "id": "1a721376-3305-4b53-969b-af7435d0fef7",
   "metadata": {},
   "source": [
    "Теперь оценим качество на валидации."
   ]
  },
  {
   "cell_type": "code",
   "execution_count": 28,
   "id": "5ddcf6f8-900a-4704-9ae5-d202fcc81b20",
   "metadata": {},
   "outputs": [],
   "source": [
    "val_outputs, val_targets = get_outputs_and_targets(model, val_loader)"
   ]
  },
  {
   "cell_type": "code",
   "execution_count": 29,
   "id": "c65ecc7c-b74c-4ff4-b9a2-b7b9950d0b46",
   "metadata": {},
   "outputs": [
    {
     "name": "stdout",
     "output_type": "stream",
     "text": [
      "              precision    recall  f1-score   support\n",
      "\n",
      "           0       0.73      0.83      0.78     14990\n",
      "           1       0.79      0.67      0.72     13682\n",
      "\n",
      "    accuracy                           0.75     28672\n",
      "   macro avg       0.76      0.75      0.75     28672\n",
      "weighted avg       0.76      0.75      0.75     28672\n",
      " \n",
      " 0.5083157627649317\n"
     ]
    }
   ],
   "source": [
    "print(\n",
    "    classification_report(val_targets, to_prob(val_outputs).argmax(1)),\n",
    "    \"\\n\",\n",
    "    matthews_corrcoef(val_targets, to_prob(val_outputs).argmax(1)),\n",
    ")"
   ]
  },
  {
   "cell_type": "markdown",
   "id": "35585a2b-ca63-444a-a643-6a3353611f4d",
   "metadata": {},
   "source": [
    "В целом модель научилась различать классы, хотя отдает приоритет 0 классу."
   ]
  },
  {
   "cell_type": "code",
   "execution_count": 30,
   "id": "33c371d8-3ea0-472a-994d-9c8863516910",
   "metadata": {},
   "outputs": [
    {
     "data": {
      "text/plain": [
       "<sklearn.metrics._plot.confusion_matrix.ConfusionMatrixDisplay at 0x7f4422a5a8d0>"
      ]
     },
     "execution_count": 30,
     "metadata": {},
     "output_type": "execute_result"
    },
    {
     "data": {
      "image/png": "[encoded data removed]",
      "text/plain": [
       "<Figure size 640x480 with 2 Axes>"
      ]
     },
     "metadata": {},
     "output_type": "display_data"
    }
   ],
   "source": [
    "ConfusionMatrixDisplay(\n",
    "    confusion_matrix(val_targets, to_prob(val_outputs).argmax(1), normalize=\"true\")\n",
    ").plot()"
   ]
  },
  {
   "cell_type": "markdown",
   "id": "63b4e3d3-471c-46fc-8039-a7dfe77b4705",
   "metadata": {},
   "source": [
    "Вероятности распределены вокруг 0.5, модель не очень уверена в своих ответах"
   ]
  },
  {
   "cell_type": "code",
   "execution_count": 31,
   "id": "6659ff5f-7655-45e3-b1f2-0fe55809ae24",
   "metadata": {},
   "outputs": [
    {
     "data": {
      "text/plain": [
       "[Text(0.5, 1.0, 'Softmax outputs for class 1')]"
      ]
     },
     "execution_count": 31,
     "metadata": {},
     "output_type": "execute_result"
    },
    {
     "data": {
      "image/png": "[encoded data removed]",
      "text/plain": [
       "<Figure size 640x480 with 1 Axes>"
      ]
     },
     "metadata": {},
     "output_type": "display_data"
    }
   ],
   "source": [
    "sns.histplot(to_prob(val_outputs)[:, 1], bins=10).set(title=\"Softmax outputs for class 1\")"
   ]
  },
  {
   "cell_type": "markdown",
   "id": "2f6267fb-a428-47bc-b5ea-d69b8d4abcd6",
   "metadata": {},
   "source": [
    "# Calibration"
   ]
  },
  {
   "cell_type": "markdown",
   "id": "8dc76cd8-3b11-4fec-abda-7bddba595587",
   "metadata": {},
   "source": [
    "С помощью калибровки, можно улучшить вероятностные оценки модели."
   ]
  },
  {
   "cell_type": "code",
   "execution_count": 32,
   "id": "7900c748-5220-476b-9b19-7dc13f7c6069",
   "metadata": {},
   "outputs": [],
   "source": [
    "calib_outputs, calib_targets = get_outputs_and_targets(model, calib_loader)"
   ]
  },
  {
   "cell_type": "code",
   "execution_count": 33,
   "id": "b984a4d5-ba5f-4cbb-9cf6-21f0ab53a155",
   "metadata": {},
   "outputs": [
    {
     "name": "stderr",
     "output_type": "stream",
     "text": [
      "An NVIDIA GPU may be present on this machine, but a CUDA-enabled jaxlib is not installed. Falling back to cpu.\n",
      "Epoch: 1000 | loss: 0.14851: 100%|██████████| 1000/1000 [00:01<00:00, 848.85it/s]\n"
     ]
    }
   ],
   "source": [
    "calib_model = OutputCalibClassifier()\n",
    "status = calib_model.calibrate(\n",
    "    calib_outputs=calib_outputs,\n",
    "    calib_targets=calib_targets,\n",
    "    config=Config(optimizer=Optimizer(n_epochs=1000)),\n",
    ")"
   ]
  },
  {
   "cell_type": "code",
   "execution_count": 34,
   "id": "c5a38644-cf0a-49f9-99b0-2f4f5001285a",
   "metadata": {},
   "outputs": [
    {
     "data": {
      "image/png": "[encoded data removed]",
      "text/plain": [
       "<Figure size 640x480 with 1 Axes>"
      ]
     },
     "metadata": {},
     "output_type": "display_data"
    }
   ],
   "source": [
    "fig, ax = plt.subplots()\n",
    "ax.set_xlabel(\"step\")\n",
    "ax.set_ylabel(\"calibration_loss\")\n",
    "ax.plot(status[\"loss\"])\n",
    "plt.show()"
   ]
  },
  {
   "cell_type": "markdown",
   "id": "c75cada4-7191-4762-ac39-c3203f4fa287",
   "metadata": {},
   "source": [
    "# Conformal Predictions"
   ]
  },
  {
   "cell_type": "markdown",
   "id": "ad8bd759-8624-4002-9ab7-db2fb761dd9f",
   "metadata": {},
   "source": [
    "Согласно алгоритму, нужно использовать дополнительную выборку для построения конформных наборов (val)."
   ]
  },
  {
   "cell_type": "code",
   "execution_count": 35,
   "id": "221b48fe-3c2d-4069-8f8d-6668e14f15c8",
   "metadata": {},
   "outputs": [],
   "source": [
    "val_outputs, val_targets = get_outputs_and_targets(model, val_loader)\n",
    "test_outputs, test_targets = get_outputs_and_targets(model, test_loader)"
   ]
  },
  {
   "cell_type": "code",
   "execution_count": 36,
   "id": "11b754ce-fab3-4e71-8e81-5474298a0184",
   "metadata": {},
   "outputs": [],
   "source": [
    "test_modes_calibrated = calib_model.predictive.mode(outputs=test_outputs)\n",
    "test_means_calibrated = calib_model.predictive.mean(outputs=test_outputs)\n",
    "val_means_calibrated = calib_model.predictive.mean(outputs=val_outputs)"
   ]
  },
  {
   "cell_type": "markdown",
   "id": "e38b8c8f-276b-4b93-ba7b-7c2c08ff5efe",
   "metadata": {},
   "source": [
    "Сравним откалиброванную модель и исходную."
   ]
  },
  {
   "cell_type": "code",
   "execution_count": 37,
   "id": "677913a0-991c-4bf5-bdfe-ca3b2a948840",
   "metadata": {},
   "outputs": [
    {
     "data": {
      "text/plain": [
       "[Text(0.5, 1.0, 'After calibration')]"
      ]
     },
     "execution_count": 37,
     "metadata": {},
     "output_type": "execute_result"
    },
    {
     "data": {
      "image/png": "[encoded data removed]",
      "text/plain": [
       "<Figure size 1200x500 with 2 Axes>"
      ]
     },
     "metadata": {},
     "output_type": "display_data"
    }
   ],
   "source": [
    "fig, ax = plt.subplots(1, 2, figsize=(12, 5))\n",
    "sns.histplot(to_prob(test_outputs)[:, 1], ax=ax[0], bins=10).set(\n",
    "    title=\"Before calibration\"\n",
    ")\n",
    "sns.histplot(test_means_calibrated[:, 1], ax=ax[1], bins=10).set(\n",
    "    title=\"After calibration\"\n",
    ")"
   ]
  },
  {
   "cell_type": "code",
   "execution_count": 38,
   "id": "0a009f39-62cb-47cb-a02e-98c6562df864",
   "metadata": {},
   "outputs": [],
   "source": [
    "conformal_sets = AdaptivePredictionConformalClassifier().conformal_set(\n",
    "    val_probs=val_means_calibrated,\n",
    "    test_probs=test_means_calibrated,\n",
    "    val_targets=val_targets,\n",
    "    error=0.1,\n",
    ")"
   ]
  },
  {
   "cell_type": "code",
   "execution_count": 39,
   "id": "05c08eee-7046-433a-91bc-279b75142558",
   "metadata": {},
   "outputs": [
    {
     "name": "stdout",
     "output_type": "stream",
     "text": [
      "Average conformal set size: 1.7977830317982457\n",
      "Max conformal set size: 2\n",
      "Min conformal set size: 1\n",
      "Mode conformal set size: 2\n",
      "Average conformal set size over well classified input: 1.864212602122265\n",
      "Average conformal set size over misclassified input: 1.6183743342632513\n"
     ]
    }
   ],
   "source": [
    "sizes = [len(s) for s in np.array(conformal_sets, dtype=\"object\")]\n",
    "set_sizes, sizes_counts = np.unique(sizes, return_counts=True)\n",
    "avg_size = np.mean(sizes)\n",
    "max_size = np.max(sizes)\n",
    "min_size = np.min(sizes)\n",
    "mode_size = set_sizes[np.argmax(sizes_counts)]\n",
    "\n",
    "avg_size_wellclassified = np.mean(\n",
    "    [\n",
    "        len(s)\n",
    "        for s in np.array(conformal_sets, dtype=\"object\")[\n",
    "            test_modes_calibrated == test_targets\n",
    "        ]\n",
    "    ]\n",
    ")\n",
    "avg_size_misclassified = np.mean(\n",
    "    [\n",
    "        len(s)\n",
    "        for s in np.array(conformal_sets, dtype=\"object\")[\n",
    "            test_modes_calibrated != test_targets\n",
    "        ]\n",
    "    ]\n",
    ")\n",
    "\n",
    "print(\n",
    "    f\"Average conformal set size: {avg_size}\\nMax conformal set size: {max_size}\\n\"\n",
    "    f\"Min conformal set size: {min_size}\\nMode conformal set size: {mode_size}\"\n",
    ")\n",
    "\n",
    "print(f\"Average conformal set size over well classified input: {avg_size_wellclassified}\")\n",
    "print(f\"Average conformal set size over misclassified input: {avg_size_misclassified}\")"
   ]
  },
  {
   "cell_type": "code",
   "execution_count": 40,
   "id": "5ec9763e-08e2-4f3c-96ee-27d60108c01f",
   "metadata": {},
   "outputs": [
    {
     "data": {
      "text/plain": [
       "[]"
      ]
     },
     "execution_count": 40,
     "metadata": {},
     "output_type": "execute_result"
    },
    {
     "data": {
      "image/png": "[encoded data removed]",
      "text/plain": [
       "<Figure size 640x480 with 1 Axes>"
      ]
     },
     "metadata": {},
     "output_type": "display_data"
    }
   ],
   "source": [
    "ax = sns.barplot(x=set_sizes, y=sizes_counts)\n",
    "ax.set(xlabel=\"Unique sizes\", ylabel=\"Sizes count\", title=\"Conformal set sizes\")\n",
    "ax.bar_label(ax.containers[0], fmt=\"%d\")\n",
    "ax.plot()"
   ]
  },
  {
   "cell_type": "markdown",
   "id": "7c0f1295-f370-45a0-be47-a355a6dd2833",
   "metadata": {},
   "source": [
    "Набор размера 2 означает, что модель с вероятностью почти 0.1 ошибается в выборе класса. \n",
    "\n",
    "Набор размера 1 - что модель точно уверена в ответе."
   ]
  },
  {
   "cell_type": "markdown",
   "id": "d8eeb00b-66c4-49d1-b946-20336aeb2742",
   "metadata": {},
   "source": [
    "# Reliability plot"
   ]
  },
  {
   "cell_type": "markdown",
   "id": "3df076ea-7e62-46e4-9311-e5236adce47c",
   "metadata": {},
   "source": [
    "Для оценки уверенности также построим кривые надежности."
   ]
  },
  {
   "cell_type": "code",
   "execution_count": 41,
   "id": "2db779b0-62a4-4bb0-aa53-c97c1fe76be5",
   "metadata": {},
   "outputs": [],
   "source": [
    "def get_calibration_curve(probs, targets, label, n_bins=10):\n",
    "    bins = np.linspace(0, 1, n_bins + 1)\n",
    "    probs = probs[:, label]\n",
    "    x = []\n",
    "    y = []\n",
    "    for i in range(n_bins - 1):\n",
    "        lower = bins[i]\n",
    "        upper = bins[i + 1]\n",
    "        inds = np.where((probs >= lower) & (probs <= upper))\n",
    "        if inds[0].shape[0] > 0:\n",
    "            true_pred = (targets[inds] == label).sum()\n",
    "            bin_conf = np.mean(probs[inds]).item()\n",
    "            bin_accuracy = (true_pred / inds[0].shape[0]).item()\n",
    "        else:\n",
    "            bin_conf = (lower + upper) / 2\n",
    "            bin_accuracy = bin_conf\n",
    "        x.append(bin_conf)\n",
    "        y.append(bin_accuracy)\n",
    "    return x, y\n",
    "\n",
    "\n",
    "def plot_calibration_curve(means, targets, label, n_bins=10, ax=None):\n",
    "    x, y = get_calibration_curve(means, targets, label, n_bins=n_bins)\n",
    "    if ax is None:\n",
    "        _, ax = plt.subplots()\n",
    "    sns.lineplot(x=x, y=y, color=\"#E66787\", ax=ax, label=\"model\")\n",
    "    sns.lineplot(\n",
    "        x=[0, 1],\n",
    "        y=[0, 1],\n",
    "        color=\"black\",\n",
    "        linestyle=\"--\",\n",
    "        ax=ax,\n",
    "        label=\"perfectly calibrated\",\n",
    "    )\n",
    "    sns.scatterplot(x=x, y=y, marker=\"o\", color=\"#E66787\", ax=ax)\n",
    "    ax.set(\n",
    "        xlabel=\"Confidence\",\n",
    "        ylabel=\"Accuracy\",\n",
    "        title=f\"Reliability plot for {label} label\",\n",
    "    )\n",
    "    plt.setp(ax.lines, zorder=0)\n",
    "    sns.move_legend(ax, \"lower right\")\n",
    "\n",
    "    ax.plot()"
   ]
  },
  {
   "cell_type": "markdown",
   "id": "13813bc5-5ced-4e48-8b92-fedf20642da4",
   "metadata": {},
   "source": [
    "График интерпретировать так: если ответы модели (выделены розовым) ниже черной прямой, это говорит о чрезмерной уверенности модели в своих ответах, если выше, то наоборот - о недостаточной уверенности. График ниже соответствует типовой картине для нейронных сетей - часто они не так просто поддаются калибровке"
   ]
  },
  {
   "cell_type": "code",
   "execution_count": 42,
   "id": "3e8a103c-f04c-4e5e-a6fc-6028e42bf36b",
   "metadata": {},
   "outputs": [
    {
     "data": {
      "image/png": "[encoded data removed]",
      "text/plain": [
       "<Figure size 1200x500 with 2 Axes>"
      ]
     },
     "metadata": {},
     "output_type": "display_data"
    }
   ],
   "source": [
    "fig, ax = plt.subplots(figsize=(12, 5), ncols=2, nrows=1)\n",
    "plot_calibration_curve(test_means_calibrated, test_targets, 0, ax=ax[0])\n",
    "plot_calibration_curve(test_means_calibrated, test_targets, 1, ax=ax[1])\n",
    "plt.show()"
   ]
  }
 ],
 "metadata": {
  "kernelspec": {
   "display_name": "Python 3 (ipykernel)",
   "language": "python",
   "name": "python3"
  },
  "language_info": {
   "codemirror_mode": {
    "name": "ipython",
    "version": 3
   },
   "file_extension": ".py",
   "mimetype": "text/x-python",
   "name": "python",
   "nbconvert_exporter": "python",
   "pygments_lexer": "ipython3",
   "version": "3.11.7"
  }
 },
 "nbformat": 4,
 "nbformat_minor": 5
}
